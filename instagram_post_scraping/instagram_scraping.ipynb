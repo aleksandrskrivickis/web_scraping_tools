{
 "cells": [
  {
   "cell_type": "code",
   "execution_count": 1,
   "metadata": {},
   "outputs": [],
   "source": [
    "#!pip install selenium\n",
    "# TODO: Stop mechanism after all hidden comments are expanded\n",
    "# TODO: Stop mechanism after end of page is reached and nothing to load"
   ]
  },
  {
   "cell_type": "code",
   "execution_count": 30,
   "metadata": {},
   "outputs": [],
   "source": [
    "#!/usr/bin/python\n",
    "# -*- coding: utf-8 -*-\n",
    "##############################Imports:\n",
    "import argparse\n",
    "import selenium\n",
    "from selenium import webdriver\n",
    "import time\n",
    "import pandas as pd\n",
    "import re\n",
    "from tqdm import tqdm\n",
    "import datetime\n",
    "import dateutil.parser as dparser\n",
    "from datetime import timedelta\n",
    "import random"
   ]
  },
  {
   "cell_type": "code",
   "execution_count": 31,
   "metadata": {},
   "outputs": [],
   "source": [
    "##############################Constants:\n",
    "    #Scraper delays(s):\n",
    "\n",
    "DELAY_GETPOSTDATA = 0.1\n",
    "DELAY_GETALLPOSTDATA = 0.1\n",
    "DELAY_SCROLLER = 1\n",
    "DELAY_COMMENT_EXPANDER = 0.1\n",
    "\n",
    "##############################Global vars:\n",
    "global URL_TO_SCRAPE, XLSX_OUTPUT_FILE_NAME, VERBOSE"
   ]
  },
  {
   "cell_type": "code",
   "execution_count": 64,
   "metadata": {},
   "outputs": [],
   "source": [
    "##############################Methods:\n",
    "def splitListToSublists(posts = [], split_parts = 100):\n",
    "    if split_parts == 0 or split_parts == 1:\n",
    "        return posts\n",
    "    else:\n",
    "        returnable = []\n",
    "        print(\"Splitting \" + str(len(posts)) + \" posts\")\n",
    "        step = int(len(posts) / split_parts)\n",
    "        splitted = 0\n",
    "        for a in range(0, split_parts):\n",
    "            temp = []\n",
    "            if splitted < split_parts - 1:\n",
    "                for i in range(0, step):\n",
    "                    temp.append(posts.pop(i))\n",
    "                splitted += 1\n",
    "            else:#Last fraction of a list\n",
    "                for b in posts:\n",
    "                    temp.append(b)\n",
    "            returnable.append(temp)\n",
    "        return returnable\n",
    "\n",
    "\n",
    "def updDelayScroller():\n",
    "    global DELAY_SCROLLER\n",
    "    DELAY_SCROLLER = round(random.uniform(1, 2), 2)\n",
    "    \n",
    "def scrollRandomUp(driver):\n",
    "    for a in range(1, random.randint(1, 5)):\n",
    "        driver.execute_script(\"window.scrollBy(0,\" + str(-(random.randint(768, 1055))) + \")\")\n",
    "        time.sleep(round(random.uniform(0.1, 0.5), 2))\n",
    "    \n",
    "def scrollPageToBottomAndFindPostLinks():\n",
    "    time.sleep(5)\n",
    "    #Get total amount of posts:\n",
    "    \n",
    "    try:\n",
    "        totalPosts = int(driver.find_element_by_xpath(\"//*[@id=\\\"react-root\\\"]/section/main/div/header/section/ul/li[1]/span/span\").text.replace(\",\", \"\"))\n",
    "    except Exception as Ex:\n",
    "        if VERBOSE:\n",
    "            print(Ex)\n",
    "            print(\"Unable to locate amount of posts, using 99999 instead.\")\n",
    "            totalPosts = 9999\n",
    "\n",
    "    pbar = tqdm(total=totalPosts, desc=\"Getting links for all the posts\")\n",
    "\n",
    "    def scrl(attempts=0, allPosts=[]):\n",
    "        if VERBOSE:\n",
    "            print(\"Attempt number: \" + str(attempts) + \" / \" + str(totalPosts / 8) + \"\\n AllPosts len is: \" + str(len(allPosts)))\n",
    "        if attempts < (totalPosts / 8):\n",
    "            prevHeight = 0\n",
    "            newHeight = 1\n",
    "            while prevHeight != newHeight:\n",
    "                prevHeight = int(driver.execute_script(\"return document.body.scrollHeight;\"))\n",
    "                scrollRandomUp(driver)\n",
    "                driver.execute_script(\"window.scrollTo(0, document.body.scrollHeight)\")\n",
    "                time.sleep(DELAY_SCROLLER)\n",
    "                updDelayScroller()#Random delay\n",
    "                allPosts.append(findPostLinks(driver))\n",
    "                newHeight = int(driver.execute_script(\"return document.body.scrollHeight;\"))\n",
    "                pbar.update(16) \n",
    "            attempts += 1\n",
    "            return scrl(attempts, allPosts)\n",
    "        else:\n",
    "            return allPosts\n",
    "    \n",
    "    \n",
    "    allPosts = scrl()\n",
    "    return allPosts\n",
    "    \n",
    "\n",
    "\n",
    "\n",
    "def findPostLinks(driver):\n",
    "    posts = []\n",
    "    src = driver.page_source\n",
    "    src_splitted = src.split(\"</div>\")\n",
    "\n",
    "    for entry in src_splitted:\n",
    "        postRegex = re.findall(\"(<a href=\\\")(.*)(\\?taken-by=\\w*\\\">)\", entry)\n",
    "        if len(postRegex) > 0:\n",
    "            posts.append(postRegex[0][1])\n",
    "    return posts\n",
    "\n",
    "def getPostData(driver):\n",
    "    time.sleep(DELAY_GETPOSTDATA)\n",
    "    postData = []\n",
    "    expandAllComments(driver)\n",
    "    post_link = driver.current_url\n",
    "    \n",
    "    try:\n",
    "        image_link = driver.find_element_by_xpath(\"//*[@id=\\\"react-root\\\"]/section/main/div/div/article/div[1]/div/div/div[2]\").text\n",
    "    except Exception as e:\n",
    "        try:\n",
    "            image_link = driver.find_elements_by_tag_name('img')[1].get_attribute('src')\n",
    "        except Exception as ex:\n",
    "            image_link = \"\"\n",
    "    \n",
    "    if VERBOSE:\n",
    "        try:\n",
    "            authors, comments = getAllCommentsFromArticle(driver)\n",
    "        except Exception as ex:\n",
    "            authors = []\n",
    "            comments = []\n",
    "            print(\"Exception in getPostData() - unable to get comments from article: \" + str(post_link))\n",
    "    #Getting likes\n",
    "    try:\n",
    "        likes = driver.find_element_by_xpath(\"//*[@id=\\\"react-root\\\"]/section/main/div/div/article/div[2]/section[2]/div/span/span\").text#driver.find_element_by_tag_name('span').text.splitlines()[6].replace(\" likes\", \"\")\n",
    "    except Exception as e:\n",
    "        if VERBOSE:\n",
    "            print(\"Unable to get likes from post: \" + post_link + \"\\n Trying different approach...\")\n",
    "        try:\n",
    "            likes = (len(driver.find_element_by_xpath(\"//*[@id=\\\"react-root\\\"]/section/main/div/div/article/div[2]/section[2]/div\").text.split(\",\")) + 1)\n",
    "        except Exception as Ex:\n",
    "            if VERBOSE:\n",
    "                print(\"Different approach didn't work. Value of likes field will be \\\"Exception\\\"\")\n",
    "            likes = \"Exception\"\n",
    "            \n",
    "    #Getting and processing date\n",
    "    try:\n",
    "        date = driver.find_element_by_xpath(\"//*[@id=\\\"react-root\\\"]/section/main/div/div/article/div[2]/div[2]/a/time\").text#driver.find_element_by_tag_name('article').text.splitlines()[len(driver.find_element_by_tag_name('article').text.splitlines()) - 2]\n",
    "    except Exception as e:\n",
    "        if VERBOSE:\n",
    "            print(\"Unable to get date from post: \" + post_link)\n",
    "        date = \"Exception\"\n",
    "        \n",
    "    if (\",\" not in date):\n",
    "        if VERBOSE:\n",
    "            print(\"Date has a weird format.. \" + str(date) + \" converting...\")\n",
    "        date = date + \", \" + str(datetime.datetime.now().year)\n",
    "    date = convertDate(date)\n",
    "    if VERBOSE:\n",
    "        print(date)\n",
    "    \n",
    "    if date == \"\" or \" days ago\" in driver.find_element_by_xpath(\"//*[@id=\\\"react-root\\\"]/section/main/div/div/article/div[2]/div[2]/a/time\").text.casefold():\n",
    "        try:\n",
    "            daysAgo = driver.find_element_by_xpath(\"//*[@id=\\\"react-root\\\"]/section/main/div/div/article/div[2]/div[2]/a/time\").text.casefold().replace(\" days ago\", \"\").replace(\" day ago\", \"\")\n",
    "        except Exception as ex:\n",
    "            if VERBOSE:\n",
    "                print(\"Exception in getPostData()'s date conversion getting days ago from web page.\")\n",
    "                daysAgo = 0\n",
    "        try:\n",
    "            date = datetime.datetime.now() - timedelta(days=int(daysAgo))\n",
    "        except Exception as ex:\n",
    "            if VERBOSE:\n",
    "                print(\"Exception in getPostData()'s date conversion(daysAgo) part.\")\n",
    "    ######################            \n",
    "    try:\n",
    "        post_id = str((driver.execute_script(\"return window._sharedData;\"))[\"entry_data\"][\"PostPage\"][0][\"graphql\"][\"shortcode_media\"][\"id\"])\n",
    "    except Exception as ex:\n",
    "        if VERBOSE:\n",
    "            print(\"Exception in getPostData()'s post_id part.\")   \n",
    "            post_id = \"00000000\"\n",
    "                \n",
    "\n",
    "    firstRun = True\n",
    "    cnt = 0\n",
    "    for a, c in zip(authors, comments):\n",
    "        if firstRun:\n",
    "            firstRun = False\n",
    "            postData.append({\"post_id\": post_id, \"post_link\" : post_link, \"image_link\" : image_link, \"post_author\" : a, \"post\" : c, \"likes\": likes, \"date\": date, \"comment\": \"N/A\", \"comment_author\": \"N/A\"})\n",
    "        else:\n",
    "            postData.append({\"post_id\": str(post_id + \"_\" + str(cnt)), \"post_link\" : post_link, \"image_link\" : image_link, \"post_author\" : authors[0], \"post\" : comments[0], \"likes\": \"N/A\", \"date\": date, \"comment\": c, \"comment_author\": a})\n",
    "            cnt += 1\n",
    "    return postData\n",
    "\n",
    "def getAllCommentsFromArticle(driver):\n",
    "    #Posts description and authors name is a very first comment's content and authors name\n",
    "    authors = []\n",
    "    comments = []\n",
    "    article = driver.find_element_by_tag_name(\"article\")\n",
    "    comment = article.find_elements_by_tag_name(\"li\")\n",
    "    firstRun = True\n",
    "    for com in comment:\n",
    "        #print(\"\\n\" + com.find_element_by_tag_name(\"a\").text + \", post: \" + com.find_element_by_tag_name(\"span\").text)\n",
    "        postAuthor = driver.find_element_by_xpath(\"//*[@id=\\\"react-root\\\"]/section/main/div/div/article/header/div[2]/div[1]/div[1]/a\").text\n",
    "        if firstRun:\n",
    "            if com.find_element_by_tag_name(\"a\").text != postAuthor:\n",
    "                authors.append(\"\")\n",
    "                comments.append(\"\")\n",
    "            firstRun = False\n",
    "        authors.append(com.find_element_by_tag_name(\"a\").text)\n",
    "        comments.append(com.find_element_by_tag_name(\"span\").text)\n",
    "    return authors, comments\n",
    "\n",
    "def expandAllComments(driver):\n",
    "    oldCommentAmount = 0\n",
    "    newCommentAmount = 0\n",
    "    timeoutCounter = 10\n",
    "    try:\n",
    "        el = driver.find_element_by_xpath(\"//*[@id=\\\"react-root\\\"]/section/main/div/div/article/div[2]/div[1]/ul/li[2]/a\")\n",
    "        while (el.text == \"Load more comments\" or \"View all\" in el.text):\n",
    "            el = driver.find_element_by_xpath(\"//*[@id=\\\"react-root\\\"]/section/main/div/div/article/div[2]/div[1]/ul/li[2]/a\")\n",
    "            if (el.text == \"Load more comments\" or \"View all\" in el.text or timeoutCounter > 0):\n",
    "                oldCommentAmount = len(driver.find_element_by_tag_name(\"article\").find_elements_by_tag_name(\"li\"))\n",
    "                el.click()\n",
    "            time.sleep(DELAY_COMMENT_EXPANDER)\n",
    "            newCommentAmount = len(driver.find_element_by_tag_name(\"article\").find_elements_by_tag_name(\"li\"))\n",
    "            if (oldCommentAmount == newCommentAmount and timeoutCounter > 0):\n",
    "                timeoutCounter -= 1\n",
    "                print(\"expandAllComments() timed out. Attempts left: \" + str(timeoutCounter))\n",
    "            \n",
    "    except Exception as e:\n",
    "        if VERBOSE:\n",
    "            print(\"expandAllComments() - expanded\")\n",
    "        \n",
    "def convertDate(date):\n",
    "    returnable = []\n",
    "    try:\n",
    "        if (str(date) == \"NaT\" or str(date) == \"\"):\n",
    "            currDate = str(date)\n",
    "            returnable == \"\"\n",
    "        else:\n",
    "            currDate = str(date)\n",
    "            returnable = dparser.parse(str(date)).date()\n",
    "    except Exception as e:\n",
    "        if VERBOSE:\n",
    "            print(\"Exception in convertAllDates() \" + str(e))\n",
    "            print(\"Exception in convertAllDates() caused by \" + currDate + \" instead of date string...\")\n",
    "        returnable = \"\"\n",
    "    return returnable           \n",
    "\n",
    "def parseArgs():\n",
    "    parser = argparse.ArgumentParser(description='Instagram scraper allows to dump all the public posts and comments from a specified link to a profile.')\n",
    "    parser.add_argument('-i', '--input_addr', help='Address of an instagram profile to scrape from', required=True)\n",
    "    parser.add_argument('-o', '--output_file', help='Output file name', default=\"./instagram_dump\" + \"_\" + datetime.datetime.now().strftime(\"%Y_%m_%d_%H_%M\") + \".xlsx\", required=False)\n",
    "    parser.add_argument('-v', '--verbose', help='Show additional information or alerts', required=False, default=True, type=bool, choices=[True, False])\n",
    "    args = vars(parser.parse_args())\n",
    "    \n",
    "    VERBOSE = args['verbose']\n",
    "\n",
    "    if VERBOSE:\n",
    "        print(\"Profile address: \" + args['input_addr'])\n",
    "        print(\"Output file name: \" + args['output_file'])\n",
    "\n",
    "    return args    \n",
    "\n",
    "\n",
    "def strip_data(page):\n",
    "    \"\"\"\n",
    "    Extract raw data from a html page.\n",
    "\n",
    "    :param str page: The source html page.\n",
    "\n",
    "    :return: dict[str, mixed]: The json data.\n",
    "    \"\"\"\n",
    "    first_step = '<html><head></head><body>' + \\\n",
    "        '<pre style=\"word-wrap: break-word; white-space: pre-wrap;\">'\n",
    "    second_step = '</pre></body></html>'\n",
    "\n",
    "    clean_page = page.replace(first_step, '').replace(second_step, '')\n",
    "\n",
    "    return json.loads(clean_page)\n"
   ]
  },
  {
   "cell_type": "code",
   "execution_count": 52,
   "metadata": {
    "scrolled": true
   },
   "outputs": [
    {
     "name": "stderr",
     "output_type": "stream",
     "text": [
      "\n",
      "\n",
      "\n",
      "\n",
      "\n",
      "\n",
      "\n",
      "\n",
      "\n",
      "\n",
      "\n",
      "\n",
      "Getting links for all the posts:   0%|                                                         | 0/739 [00:00<?, ?it/s]"
     ]
    },
    {
     "name": "stdout",
     "output_type": "stream",
     "text": [
      "Attempt number: 0 / 92.375\n",
      " AllPosts len is: 0\n"
     ]
    },
    {
     "name": "stderr",
     "output_type": "stream",
     "text": [
      "\n",
      "\n",
      "\n",
      "\n",
      "\n",
      "\n",
      "\n",
      "\n",
      "\n",
      "\n",
      "\n",
      "\n",
      "Getting links for all the posts:   2%|█                                               | 16/739 [00:01<01:14,  9.69it/s]\n",
      "\n",
      "\n",
      "\n",
      "\n",
      "\n",
      "\n",
      "\n",
      "\n",
      "\n",
      "\n",
      "\n",
      "Getting links for all the posts:   4%|██                                              | 32/739 [00:03<01:13,  9.58it/s]\n",
      "\n",
      "\n",
      "\n",
      "\n",
      "\n",
      "\n",
      "\n",
      "\n",
      "\n",
      "\n",
      "\n",
      "Getting links for all the posts:   6%|███                                             | 48/739 [00:05<01:19,  8.68it/s]\n",
      "\n",
      "\n",
      "\n",
      "\n",
      "\n",
      "\n",
      "\n",
      "\n",
      "\n",
      "\n",
      "\n",
      "Getting links for all the posts:   9%|████▏                                           | 64/739 [00:07<01:23,  8.10it/s]\n",
      "\n",
      "\n",
      "\n",
      "\n",
      "\n",
      "\n",
      "\n",
      "\n",
      "\n",
      "\n",
      "\n",
      "Getting links for all the posts:  11%|█████▏                                          | 80/739 [00:10<01:23,  7.89it/s]\n",
      "\n",
      "\n",
      "\n",
      "\n",
      "\n",
      "\n",
      "\n",
      "\n",
      "\n",
      "\n",
      "\n",
      "Getting links for all the posts:  13%|██████▏                                         | 96/739 [00:11<01:12,  8.84it/s]\n",
      "\n",
      "\n",
      "\n",
      "\n",
      "\n",
      "\n",
      "\n",
      "\n",
      "\n",
      "\n",
      "\n",
      "Getting links for all the posts:  15%|███████                                        | 112/739 [00:13<01:11,  8.81it/s]\n",
      "\n",
      "\n",
      "\n",
      "\n",
      "\n",
      "\n",
      "\n",
      "\n",
      "\n",
      "\n",
      "\n",
      "Getting links for all the posts:  17%|████████▏                                      | 128/739 [00:15<01:19,  7.71it/s]\n",
      "\n",
      "\n",
      "\n",
      "\n",
      "\n",
      "\n",
      "\n",
      "\n",
      "\n",
      "\n",
      "\n",
      "Getting links for all the posts:  19%|█████████▏                                     | 144/739 [00:17<01:11,  8.36it/s]\n",
      "\n",
      "\n",
      "\n",
      "\n",
      "\n",
      "\n",
      "\n",
      "\n",
      "\n",
      "\n",
      "\n",
      "Getting links for all the posts:  22%|██████████▏                                    | 160/739 [00:20<01:20,  7.23it/s]\n",
      "\n",
      "\n",
      "\n",
      "\n",
      "\n",
      "\n",
      "\n",
      "\n",
      "\n",
      "\n",
      "\n",
      "Getting links for all the posts:  24%|███████████▏                                   | 176/739 [00:22<01:17,  7.27it/s]\n",
      "\n",
      "\n",
      "\n",
      "\n",
      "\n",
      "\n",
      "\n",
      "\n",
      "\n",
      "\n",
      "\n",
      "Getting links for all the posts:  26%|████████████▏                                  | 192/739 [00:24<01:11,  7.62it/s]\n",
      "\n",
      "\n",
      "\n",
      "\n",
      "\n",
      "\n",
      "\n",
      "\n",
      "\n",
      "\n",
      "\n",
      "Getting links for all the posts:  28%|█████████████▏                                 | 208/739 [00:26<01:12,  7.33it/s]\n",
      "\n",
      "\n",
      "\n",
      "\n",
      "\n",
      "\n",
      "\n",
      "\n",
      "\n",
      "\n",
      "\n",
      "Getting links for all the posts:  30%|██████████████▏                                | 224/739 [00:28<01:05,  7.81it/s]\n",
      "\n",
      "\n",
      "\n",
      "\n",
      "\n",
      "\n",
      "\n",
      "\n",
      "\n",
      "\n",
      "\n",
      "Getting links for all the posts:  32%|███████████████▎                               | 240/739 [00:31<01:08,  7.26it/s]\n",
      "\n",
      "\n",
      "\n",
      "\n",
      "\n",
      "\n",
      "\n",
      "\n",
      "\n",
      "\n",
      "\n",
      "Getting links for all the posts:  35%|████████████████▎                              | 256/739 [00:33<01:08,  7.09it/s]\n",
      "\n",
      "\n",
      "\n",
      "\n",
      "\n",
      "\n",
      "\n",
      "\n",
      "\n",
      "\n",
      "\n",
      "Getting links for all the posts:  37%|█████████████████▎                             | 272/739 [00:36<01:11,  6.56it/s]\n",
      "\n",
      "\n",
      "\n",
      "\n",
      "\n",
      "\n",
      "\n",
      "\n",
      "\n",
      "\n",
      "\n",
      "Getting links for all the posts:  39%|██████████████████▎                            | 288/739 [00:37<01:01,  7.36it/s]\n",
      "\n",
      "\n",
      "\n",
      "\n",
      "\n",
      "\n",
      "\n",
      "\n",
      "\n",
      "\n",
      "\n",
      "Getting links for all the posts:  41%|███████████████████▎                           | 304/739 [00:40<01:01,  7.08it/s]\n",
      "\n",
      "\n",
      "\n",
      "\n",
      "\n",
      "\n",
      "\n",
      "\n",
      "\n",
      "\n",
      "\n",
      "Getting links for all the posts:  43%|████████████████████▎                          | 320/739 [00:42<01:00,  6.93it/s]\n",
      "\n",
      "\n",
      "\n",
      "\n",
      "\n",
      "\n",
      "\n",
      "\n",
      "\n",
      "\n",
      "\n",
      "Getting links for all the posts:  45%|█████████████████████▎                         | 336/739 [00:43<00:49,  8.18it/s]\n",
      "\n",
      "\n",
      "\n",
      "\n",
      "\n",
      "\n",
      "\n",
      "\n",
      "\n",
      "\n",
      "\n",
      "Getting links for all the posts:  48%|██████████████████████▍                        | 352/739 [00:47<00:56,  6.84it/s]\n",
      "\n",
      "\n",
      "\n",
      "\n",
      "\n",
      "\n",
      "\n",
      "\n",
      "\n",
      "\n",
      "\n",
      "Getting links for all the posts:  50%|███████████████████████▍                       | 368/739 [00:48<00:48,  7.63it/s]\n",
      "\n",
      "\n",
      "\n",
      "\n",
      "\n",
      "\n",
      "\n",
      "\n",
      "\n",
      "\n",
      "\n",
      "Getting links for all the posts:  52%|████████████████████████▍                      | 384/739 [00:50<00:47,  7.44it/s]\n",
      "\n",
      "\n",
      "\n",
      "\n",
      "\n",
      "\n",
      "\n",
      "\n",
      "\n",
      "\n",
      "\n",
      "Getting links for all the posts:  54%|█████████████████████████▍                     | 400/739 [00:53<00:50,  6.78it/s]\n",
      "\n",
      "\n",
      "\n",
      "\n",
      "\n",
      "\n",
      "\n",
      "\n",
      "\n",
      "\n",
      "\n",
      "Getting links for all the posts:  56%|██████████████████████████▍                    | 416/739 [00:55<00:44,  7.22it/s]\n",
      "\n",
      "\n",
      "\n",
      "\n",
      "\n",
      "\n",
      "\n",
      "\n",
      "\n",
      "\n",
      "\n",
      "Getting links for all the posts:  58%|███████████████████████████▍                   | 432/739 [00:56<00:37,  8.22it/s]\n",
      "\n",
      "\n",
      "\n",
      "\n",
      "\n",
      "\n",
      "\n",
      "\n",
      "\n",
      "\n",
      "\n",
      "Getting links for all the posts:  61%|████████████████████████████▍                  | 448/739 [00:58<00:31,  9.14it/s]\n",
      "\n",
      "\n",
      "\n",
      "\n",
      "\n",
      "\n",
      "\n",
      "\n",
      "\n",
      "\n",
      "\n",
      "Getting links for all the posts:  63%|█████████████████████████████▌                 | 464/739 [01:00<00:32,  8.39it/s]\n",
      "\n",
      "\n",
      "\n",
      "\n",
      "\n",
      "\n",
      "\n",
      "\n",
      "\n",
      "\n",
      "\n",
      "Getting links for all the posts:  65%|██████████████████████████████▌                | 480/739 [01:03<00:34,  7.50it/s]\n",
      "\n",
      "\n",
      "\n",
      "\n",
      "\n",
      "\n",
      "\n",
      "\n",
      "\n",
      "\n",
      "\n",
      "Getting links for all the posts:  67%|███████████████████████████████▌               | 496/739 [01:04<00:29,  8.15it/s]\n",
      "\n",
      "\n",
      "\n",
      "\n",
      "\n",
      "\n",
      "\n",
      "\n",
      "\n",
      "\n",
      "\n",
      "Getting links for all the posts:  69%|████████████████████████████████▌              | 512/739 [01:06<00:27,  8.18it/s]\n",
      "\n",
      "\n",
      "\n",
      "\n",
      "\n",
      "\n",
      "\n",
      "\n",
      "\n",
      "\n",
      "\n",
      "Getting links for all the posts:  71%|█████████████████████████████████▌             | 528/739 [01:08<00:26,  7.83it/s]\n",
      "\n",
      "\n",
      "\n",
      "\n",
      "\n",
      "\n",
      "\n",
      "\n",
      "\n",
      "\n",
      "\n",
      "Getting links for all the posts:  74%|██████████████████████████████████▌            | 544/739 [01:11<00:25,  7.51it/s]\n",
      "\n",
      "\n",
      "\n",
      "\n",
      "\n",
      "\n",
      "\n",
      "\n",
      "\n",
      "\n",
      "\n",
      "Getting links for all the posts:  76%|███████████████████████████████████▌           | 560/739 [01:13<00:23,  7.50it/s]\n",
      "\n",
      "\n",
      "\n",
      "\n",
      "\n",
      "\n",
      "\n",
      "\n",
      "\n",
      "\n",
      "\n",
      "Getting links for all the posts:  78%|████████████████████████████████████▋          | 576/739 [01:15<00:20,  7.99it/s]\n",
      "\n",
      "\n",
      "\n",
      "\n",
      "\n",
      "\n",
      "\n",
      "\n",
      "\n",
      "\n",
      "\n",
      "Getting links for all the posts:  80%|█████████████████████████████████████▋         | 592/739 [01:18<00:21,  6.97it/s]\n",
      "\n",
      "\n",
      "\n",
      "\n",
      "\n",
      "\n",
      "\n",
      "\n",
      "\n",
      "\n",
      "\n",
      "Getting links for all the posts:  82%|██████████████████████████████████████▋        | 608/739 [01:20<00:18,  7.18it/s]\n",
      "\n",
      "\n",
      "\n",
      "\n",
      "\n",
      "\n",
      "\n",
      "\n",
      "\n",
      "\n",
      "\n",
      "Getting links for all the posts:  84%|███████████████████████████████████████▋       | 624/739 [01:22<00:15,  7.47it/s]\n",
      "\n",
      "\n",
      "\n",
      "\n",
      "\n",
      "\n",
      "\n",
      "\n",
      "\n",
      "\n",
      "\n",
      "Getting links for all the posts:  87%|████████████████████████████████████████▋      | 640/739 [01:24<00:14,  6.95it/s]\n",
      "\n",
      "\n",
      "\n",
      "\n",
      "\n",
      "\n",
      "\n",
      "\n",
      "\n",
      "\n",
      "\n",
      "Getting links for all the posts:  89%|█████████████████████████████████████████▋     | 656/739 [01:27<00:12,  6.71it/s]\n",
      "\n",
      "\n",
      "\n",
      "\n",
      "\n",
      "\n",
      "\n",
      "\n",
      "\n",
      "\n",
      "\n",
      "Getting links for all the posts:  91%|██████████████████████████████████████████▋    | 672/739 [01:29<00:10,  6.50it/s]\n",
      "\n",
      "\n",
      "\n",
      "\n",
      "\n",
      "\n",
      "\n",
      "\n",
      "\n",
      "\n",
      "\n",
      "Getting links for all the posts:  93%|███████████████████████████████████████████▊   | 688/739 [01:32<00:08,  6.25it/s]\n",
      "\n",
      "\n",
      "\n",
      "\n",
      "\n",
      "\n",
      "\n",
      "\n",
      "\n",
      "\n",
      "\n",
      "Getting links for all the posts:  95%|████████████████████████████████████████████▊  | 704/739 [01:35<00:05,  6.00it/s]\n",
      "\n",
      "\n",
      "\n",
      "\n",
      "\n",
      "\n",
      "\n",
      "\n",
      "\n",
      "\n",
      "\n",
      "Getting links for all the posts:  97%|█████████████████████████████████████████████▊ | 720/739 [01:38<00:03,  6.15it/s]\n",
      "\n",
      "\n",
      "\n",
      "\n",
      "\n",
      "\n",
      "\n",
      "\n",
      "\n",
      "\n",
      "\n",
      "Getting links for all the posts: 100%|██████████████████████████████████████████████▊| 736/739 [01:40<00:00,  6.29it/s]\n",
      "\n",
      "\n",
      "\n",
      "\n",
      "\n",
      "\n",
      "\n",
      "\n",
      "\n",
      "\n",
      "\n",
      "Getting links for all the posts: 752it [01:42,  7.00it/s]                                                              \n",
      "\n",
      "\n",
      "\n",
      "\n",
      "\n",
      "\n",
      "\n",
      "\n",
      "\n",
      "\n",
      "\n",
      "Getting links for all the posts: 768it [01:44,  7.11it/s]\n",
      "\n",
      "\n",
      "\n",
      "\n",
      "\n",
      "\n",
      "\n",
      "\n",
      "\n",
      "\n",
      "\n",
      "Getting links for all the posts: 784it [01:47,  6.64it/s]\n",
      "\n",
      "\n",
      "\n",
      "\n",
      "\n",
      "\n",
      "\n",
      "\n",
      "\n",
      "\n",
      "\n",
      "Getting links for all the posts: 800it [01:49,  6.32it/s]\n",
      "\n",
      "\n",
      "\n",
      "\n",
      "\n",
      "\n",
      "\n",
      "\n",
      "\n",
      "\n",
      "\n",
      "Getting links for all the posts: 816it [01:51,  6.93it/s]\n",
      "\n",
      "\n",
      "\n",
      "\n",
      "\n",
      "\n",
      "\n",
      "\n",
      "\n",
      "\n",
      "\n",
      "Getting links for all the posts: 832it [01:54,  6.58it/s]\n",
      "\n",
      "\n",
      "\n",
      "\n",
      "\n",
      "\n",
      "\n",
      "\n",
      "\n",
      "\n",
      "\n",
      "Getting links for all the posts: 848it [01:57,  6.35it/s]\n",
      "\n",
      "\n",
      "\n",
      "\n",
      "\n",
      "\n",
      "\n",
      "\n",
      "\n",
      "\n",
      "\n",
      "Getting links for all the posts: 864it [01:59,  6.25it/s]\n",
      "\n",
      "\n",
      "\n",
      "\n",
      "\n",
      "\n",
      "\n",
      "\n",
      "\n",
      "\n",
      "\n",
      "Getting links for all the posts: 880it [02:01,  7.06it/s]\n",
      "\n",
      "\n",
      "\n",
      "\n",
      "\n",
      "\n",
      "\n",
      "\n",
      "\n",
      "\n",
      "\n",
      "Getting links for all the posts: 896it [02:03,  6.94it/s]\n",
      "\n",
      "\n",
      "\n",
      "\n",
      "\n",
      "\n",
      "\n",
      "\n",
      "\n",
      "\n",
      "\n",
      "Getting links for all the posts: 912it [02:06,  6.49it/s]\n",
      "\n",
      "\n",
      "\n",
      "\n",
      "\n",
      "\n",
      "\n",
      "\n",
      "\n",
      "\n",
      "\n",
      "Getting links for all the posts: 928it [02:09,  6.34it/s]\n",
      "\n",
      "\n",
      "\n",
      "\n",
      "\n",
      "\n",
      "\n",
      "\n",
      "\n",
      "\n",
      "\n",
      "Getting links for all the posts: 944it [02:11,  6.73it/s]\n",
      "\n",
      "\n",
      "\n",
      "\n",
      "\n",
      "\n",
      "\n",
      "\n",
      "\n",
      "\n",
      "\n",
      "Getting links for all the posts: 960it [02:13,  7.37it/s]\n",
      "\n",
      "\n",
      "\n",
      "\n",
      "\n",
      "\n",
      "\n",
      "\n",
      "\n",
      "\n",
      "\n",
      "Getting links for all the posts: 976it [02:14,  7.67it/s]\n",
      "\n",
      "\n",
      "\n",
      "\n",
      "\n",
      "\n",
      "\n",
      "\n",
      "\n",
      "\n",
      "\n",
      "Getting links for all the posts: 992it [02:17,  7.43it/s]"
     ]
    },
    {
     "name": "stdout",
     "output_type": "stream",
     "text": [
      "Attempt number: 1 / 92.375\n",
      " AllPosts len is: 62\n"
     ]
    },
    {
     "name": "stderr",
     "output_type": "stream",
     "text": [
      "\n",
      "\n",
      "\n",
      "\n",
      "\n",
      "\n",
      "\n",
      "\n",
      "\n",
      "\n",
      "\n",
      "\n",
      "Getting links for all the posts: 1008it [02:19,  7.60it/s]"
     ]
    },
    {
     "name": "stdout",
     "output_type": "stream",
     "text": [
      "Attempt number: 2 / 92.375\n",
      " AllPosts len is: 63\n"
     ]
    },
    {
     "name": "stderr",
     "output_type": "stream",
     "text": [
      "\n",
      "\n",
      "\n",
      "\n",
      "\n",
      "\n",
      "\n",
      "\n",
      "\n",
      "\n",
      "\n",
      "\n",
      "Getting links for all the posts: 1024it [02:20,  8.02it/s]"
     ]
    },
    {
     "name": "stdout",
     "output_type": "stream",
     "text": [
      "Attempt number: 3 / 92.375\n",
      " AllPosts len is: 64\n"
     ]
    },
    {
     "name": "stderr",
     "output_type": "stream",
     "text": [
      "\n",
      "\n",
      "\n",
      "\n",
      "\n",
      "\n",
      "\n",
      "\n",
      "\n",
      "\n",
      "\n",
      "\n",
      "Getting links for all the posts: 1040it [02:23,  6.95it/s]"
     ]
    },
    {
     "name": "stdout",
     "output_type": "stream",
     "text": [
      "Attempt number: 4 / 92.375\n",
      " AllPosts len is: 65\n"
     ]
    },
    {
     "name": "stderr",
     "output_type": "stream",
     "text": [
      "\n",
      "\n",
      "\n",
      "\n",
      "\n",
      "\n",
      "\n",
      "\n",
      "\n",
      "\n",
      "\n",
      "\n",
      "Getting links for all the posts: 1056it [02:26,  6.66it/s]"
     ]
    },
    {
     "name": "stdout",
     "output_type": "stream",
     "text": [
      "Attempt number: 5 / 92.375\n",
      " AllPosts len is: 66\n"
     ]
    },
    {
     "name": "stderr",
     "output_type": "stream",
     "text": [
      "\n",
      "\n",
      "\n",
      "\n",
      "\n",
      "\n",
      "\n",
      "\n",
      "\n",
      "\n",
      "\n",
      "\n",
      "Getting links for all the posts: 1072it [02:29,  6.68it/s]"
     ]
    },
    {
     "name": "stdout",
     "output_type": "stream",
     "text": [
      "Attempt number: 6 / 92.375\n",
      " AllPosts len is: 67\n"
     ]
    },
    {
     "name": "stderr",
     "output_type": "stream",
     "text": [
      "\n",
      "\n",
      "\n",
      "\n",
      "\n",
      "\n",
      "\n",
      "\n",
      "\n",
      "\n",
      "\n",
      "\n",
      "Getting links for all the posts: 1088it [02:31,  7.02it/s]"
     ]
    },
    {
     "name": "stdout",
     "output_type": "stream",
     "text": [
      "Attempt number: 7 / 92.375\n",
      " AllPosts len is: 68\n"
     ]
    },
    {
     "name": "stderr",
     "output_type": "stream",
     "text": [
      "\n",
      "\n",
      "\n",
      "\n",
      "\n",
      "\n",
      "\n",
      "\n",
      "\n",
      "\n",
      "\n",
      "\n",
      "Getting links for all the posts: 1104it [02:33,  6.94it/s]"
     ]
    },
    {
     "name": "stdout",
     "output_type": "stream",
     "text": [
      "Attempt number: 8 / 92.375\n",
      " AllPosts len is: 69\n"
     ]
    },
    {
     "name": "stderr",
     "output_type": "stream",
     "text": [
      "\n",
      "\n",
      "\n",
      "\n",
      "\n",
      "\n",
      "\n",
      "\n",
      "\n",
      "\n",
      "\n",
      "\n",
      "Getting links for all the posts: 1120it [02:34,  7.71it/s]"
     ]
    },
    {
     "name": "stdout",
     "output_type": "stream",
     "text": [
      "Attempt number: 9 / 92.375\n",
      " AllPosts len is: 70\n"
     ]
    },
    {
     "name": "stderr",
     "output_type": "stream",
     "text": [
      "\n",
      "\n",
      "\n",
      "\n",
      "\n",
      "\n",
      "\n",
      "\n",
      "\n",
      "\n",
      "\n",
      "\n",
      "Getting links for all the posts: 1136it [02:37,  7.57it/s]"
     ]
    },
    {
     "name": "stdout",
     "output_type": "stream",
     "text": [
      "Attempt number: 10 / 92.375\n",
      " AllPosts len is: 71\n"
     ]
    },
    {
     "name": "stderr",
     "output_type": "stream",
     "text": [
      "\n",
      "\n",
      "\n",
      "\n",
      "\n",
      "\n",
      "\n",
      "\n",
      "\n",
      "\n",
      "\n",
      "\n",
      "Getting links for all the posts: 1152it [02:39,  7.09it/s]"
     ]
    },
    {
     "name": "stdout",
     "output_type": "stream",
     "text": [
      "Attempt number: 11 / 92.375\n",
      " AllPosts len is: 72\n"
     ]
    },
    {
     "name": "stderr",
     "output_type": "stream",
     "text": [
      "\n",
      "\n",
      "\n",
      "\n",
      "\n",
      "\n",
      "\n",
      "\n",
      "\n",
      "\n",
      "\n",
      "\n",
      "Getting links for all the posts: 1168it [02:42,  6.53it/s]"
     ]
    },
    {
     "name": "stdout",
     "output_type": "stream",
     "text": [
      "Attempt number: 12 / 92.375\n",
      " AllPosts len is: 73\n"
     ]
    },
    {
     "name": "stderr",
     "output_type": "stream",
     "text": [
      "\n",
      "\n",
      "\n",
      "\n",
      "\n",
      "\n",
      "\n",
      "\n",
      "\n",
      "\n",
      "\n",
      "\n",
      "Getting links for all the posts: 1184it [02:44,  6.73it/s]"
     ]
    },
    {
     "name": "stdout",
     "output_type": "stream",
     "text": [
      "Attempt number: 13 / 92.375\n",
      " AllPosts len is: 74\n"
     ]
    },
    {
     "name": "stderr",
     "output_type": "stream",
     "text": [
      "\n",
      "\n",
      "\n",
      "\n",
      "\n",
      "\n",
      "\n",
      "\n",
      "\n",
      "\n",
      "\n",
      "\n",
      "Getting links for all the posts: 1200it [02:46,  7.64it/s]"
     ]
    },
    {
     "name": "stdout",
     "output_type": "stream",
     "text": [
      "Attempt number: 14 / 92.375\n",
      " AllPosts len is: 75\n"
     ]
    },
    {
     "name": "stderr",
     "output_type": "stream",
     "text": [
      "\n",
      "\n",
      "\n",
      "\n",
      "\n",
      "\n",
      "\n",
      "\n",
      "\n",
      "\n",
      "\n",
      "\n",
      "Getting links for all the posts: 1216it [02:48,  7.13it/s]"
     ]
    },
    {
     "name": "stdout",
     "output_type": "stream",
     "text": [
      "Attempt number: 15 / 92.375\n",
      " AllPosts len is: 76\n"
     ]
    },
    {
     "name": "stderr",
     "output_type": "stream",
     "text": [
      "\n",
      "\n",
      "\n",
      "\n",
      "\n",
      "\n",
      "\n",
      "\n",
      "\n",
      "\n",
      "\n",
      "\n",
      "Getting links for all the posts: 1232it [02:50,  7.62it/s]"
     ]
    },
    {
     "name": "stdout",
     "output_type": "stream",
     "text": [
      "Attempt number: 16 / 92.375\n",
      " AllPosts len is: 77\n"
     ]
    },
    {
     "name": "stderr",
     "output_type": "stream",
     "text": [
      "\n",
      "\n",
      "\n",
      "\n",
      "\n",
      "\n",
      "\n",
      "\n",
      "\n",
      "\n",
      "\n",
      "\n",
      "Getting links for all the posts: 1248it [02:52,  7.81it/s]"
     ]
    },
    {
     "name": "stdout",
     "output_type": "stream",
     "text": [
      "Attempt number: 17 / 92.375\n",
      " AllPosts len is: 78\n"
     ]
    },
    {
     "name": "stderr",
     "output_type": "stream",
     "text": [
      "\n",
      "\n",
      "\n",
      "\n",
      "\n",
      "\n",
      "\n",
      "\n",
      "\n",
      "\n",
      "\n",
      "\n",
      "Getting links for all the posts: 1264it [02:54,  7.56it/s]"
     ]
    },
    {
     "name": "stdout",
     "output_type": "stream",
     "text": [
      "Attempt number: 18 / 92.375\n",
      " AllPosts len is: 79\n"
     ]
    },
    {
     "name": "stderr",
     "output_type": "stream",
     "text": [
      "\n",
      "\n",
      "\n",
      "\n",
      "\n",
      "\n",
      "\n",
      "\n",
      "\n",
      "\n",
      "\n",
      "\n",
      "Getting links for all the posts: 1280it [02:57,  6.75it/s]"
     ]
    },
    {
     "name": "stdout",
     "output_type": "stream",
     "text": [
      "Attempt number: 19 / 92.375\n",
      " AllPosts len is: 80\n"
     ]
    },
    {
     "name": "stderr",
     "output_type": "stream",
     "text": [
      "\n",
      "\n",
      "\n",
      "\n",
      "\n",
      "\n",
      "\n",
      "\n",
      "\n",
      "\n",
      "\n",
      "\n",
      "Getting links for all the posts: 1296it [03:00,  6.54it/s]"
     ]
    },
    {
     "name": "stdout",
     "output_type": "stream",
     "text": [
      "Attempt number: 20 / 92.375\n",
      " AllPosts len is: 81\n"
     ]
    },
    {
     "name": "stderr",
     "output_type": "stream",
     "text": [
      "\n",
      "\n",
      "\n",
      "\n",
      "\n",
      "\n",
      "\n",
      "\n",
      "\n",
      "\n",
      "\n",
      "\n",
      "Getting links for all the posts: 1312it [03:03,  6.07it/s]"
     ]
    },
    {
     "name": "stdout",
     "output_type": "stream",
     "text": [
      "Attempt number: 21 / 92.375\n",
      " AllPosts len is: 82\n"
     ]
    },
    {
     "name": "stderr",
     "output_type": "stream",
     "text": [
      "\n",
      "\n",
      "\n",
      "\n",
      "\n",
      "\n",
      "\n",
      "\n",
      "\n",
      "\n",
      "\n",
      "\n",
      "Getting links for all the posts: 1328it [03:06,  5.95it/s]"
     ]
    },
    {
     "name": "stdout",
     "output_type": "stream",
     "text": [
      "Attempt number: 22 / 92.375\n",
      " AllPosts len is: 83\n"
     ]
    },
    {
     "name": "stderr",
     "output_type": "stream",
     "text": [
      "\n",
      "\n",
      "\n",
      "\n",
      "\n",
      "\n",
      "\n",
      "\n",
      "\n",
      "\n",
      "\n",
      "\n",
      "Getting links for all the posts: 1344it [03:08,  6.10it/s]"
     ]
    },
    {
     "name": "stdout",
     "output_type": "stream",
     "text": [
      "Attempt number: 23 / 92.375\n",
      " AllPosts len is: 84\n"
     ]
    },
    {
     "name": "stderr",
     "output_type": "stream",
     "text": [
      "\n",
      "\n",
      "\n",
      "\n",
      "\n",
      "\n",
      "\n",
      "\n",
      "\n",
      "\n",
      "\n",
      "\n",
      "Getting links for all the posts: 1360it [03:11,  6.04it/s]"
     ]
    },
    {
     "name": "stdout",
     "output_type": "stream",
     "text": [
      "Attempt number: 24 / 92.375\n",
      " AllPosts len is: 85\n"
     ]
    },
    {
     "name": "stderr",
     "output_type": "stream",
     "text": [
      "\n",
      "\n",
      "\n",
      "\n",
      "\n",
      "\n",
      "\n",
      "\n",
      "\n",
      "\n",
      "\n",
      "\n",
      "Getting links for all the posts: 1376it [03:13,  6.44it/s]"
     ]
    },
    {
     "name": "stdout",
     "output_type": "stream",
     "text": [
      "Attempt number: 25 / 92.375\n",
      " AllPosts len is: 86\n"
     ]
    },
    {
     "name": "stderr",
     "output_type": "stream",
     "text": [
      "\n",
      "\n",
      "\n",
      "\n",
      "\n",
      "\n",
      "\n",
      "\n",
      "\n",
      "\n",
      "\n",
      "\n",
      "Getting links for all the posts: 1392it [03:16,  6.24it/s]"
     ]
    },
    {
     "name": "stdout",
     "output_type": "stream",
     "text": [
      "Attempt number: 26 / 92.375\n",
      " AllPosts len is: 87\n"
     ]
    },
    {
     "name": "stderr",
     "output_type": "stream",
     "text": [
      "\n",
      "\n",
      "\n",
      "\n",
      "\n",
      "\n",
      "\n",
      "\n",
      "\n",
      "\n",
      "\n",
      "\n",
      "Getting links for all the posts: 1408it [03:18,  6.41it/s]"
     ]
    },
    {
     "name": "stdout",
     "output_type": "stream",
     "text": [
      "Attempt number: 27 / 92.375\n",
      " AllPosts len is: 88\n"
     ]
    },
    {
     "name": "stderr",
     "output_type": "stream",
     "text": [
      "\n",
      "\n",
      "\n",
      "\n",
      "\n",
      "\n",
      "\n",
      "\n",
      "\n",
      "\n",
      "\n",
      "\n",
      "Getting links for all the posts: 1424it [03:20,  7.01it/s]"
     ]
    },
    {
     "name": "stdout",
     "output_type": "stream",
     "text": [
      "Attempt number: 28 / 92.375\n",
      " AllPosts len is: 89\n"
     ]
    },
    {
     "name": "stderr",
     "output_type": "stream",
     "text": [
      "\n",
      "\n",
      "\n",
      "\n",
      "\n",
      "\n",
      "\n",
      "\n",
      "\n",
      "\n",
      "\n",
      "\n",
      "Getting links for all the posts: 1440it [03:21,  8.10it/s]"
     ]
    },
    {
     "name": "stdout",
     "output_type": "stream",
     "text": [
      "Attempt number: 29 / 92.375\n",
      " AllPosts len is: 90\n"
     ]
    },
    {
     "name": "stderr",
     "output_type": "stream",
     "text": [
      "\n",
      "\n",
      "\n",
      "\n",
      "\n",
      "\n",
      "\n",
      "\n",
      "\n",
      "\n",
      "\n",
      "\n",
      "Getting links for all the posts: 1456it [03:23,  8.72it/s]"
     ]
    },
    {
     "name": "stdout",
     "output_type": "stream",
     "text": [
      "Attempt number: 30 / 92.375\n",
      " AllPosts len is: 91\n"
     ]
    },
    {
     "name": "stderr",
     "output_type": "stream",
     "text": [
      "\n",
      "\n",
      "\n",
      "\n",
      "\n",
      "\n",
      "\n",
      "\n",
      "\n",
      "\n",
      "\n",
      "\n",
      "Getting links for all the posts: 1472it [03:25,  8.61it/s]"
     ]
    },
    {
     "name": "stdout",
     "output_type": "stream",
     "text": [
      "Attempt number: 31 / 92.375\n",
      " AllPosts len is: 92\n"
     ]
    },
    {
     "name": "stderr",
     "output_type": "stream",
     "text": [
      "\n",
      "\n",
      "\n",
      "\n",
      "\n",
      "\n",
      "\n",
      "\n",
      "\n",
      "\n",
      "\n",
      "\n",
      "Getting links for all the posts: 1488it [03:27,  8.46it/s]"
     ]
    },
    {
     "name": "stdout",
     "output_type": "stream",
     "text": [
      "Attempt number: 32 / 92.375\n",
      " AllPosts len is: 93\n"
     ]
    },
    {
     "name": "stderr",
     "output_type": "stream",
     "text": [
      "\n",
      "\n",
      "\n",
      "\n",
      "\n",
      "\n",
      "\n",
      "\n",
      "\n",
      "\n",
      "\n",
      "\n",
      "Getting links for all the posts: 1504it [03:28,  8.92it/s]"
     ]
    },
    {
     "name": "stdout",
     "output_type": "stream",
     "text": [
      "Attempt number: 33 / 92.375\n",
      " AllPosts len is: 94\n"
     ]
    },
    {
     "name": "stderr",
     "output_type": "stream",
     "text": [
      "\n",
      "\n",
      "\n",
      "\n",
      "\n",
      "\n",
      "\n",
      "\n",
      "\n",
      "\n",
      "\n",
      "\n",
      "Getting links for all the posts: 1520it [03:31,  7.37it/s]"
     ]
    },
    {
     "name": "stdout",
     "output_type": "stream",
     "text": [
      "Attempt number: 34 / 92.375\n",
      " AllPosts len is: 95\n"
     ]
    },
    {
     "name": "stderr",
     "output_type": "stream",
     "text": [
      "\n",
      "\n",
      "\n",
      "\n",
      "\n",
      "\n",
      "\n",
      "\n",
      "\n",
      "\n",
      "\n",
      "\n",
      "Getting links for all the posts: 1536it [03:33,  7.30it/s]"
     ]
    },
    {
     "name": "stdout",
     "output_type": "stream",
     "text": [
      "Attempt number: 35 / 92.375\n",
      " AllPosts len is: 96\n"
     ]
    },
    {
     "name": "stderr",
     "output_type": "stream",
     "text": [
      "\n",
      "\n",
      "\n",
      "\n",
      "\n",
      "\n",
      "\n",
      "\n",
      "\n",
      "\n",
      "\n",
      "\n",
      "Getting links for all the posts: 1552it [03:35,  7.70it/s]"
     ]
    },
    {
     "name": "stdout",
     "output_type": "stream",
     "text": [
      "Attempt number: 36 / 92.375\n",
      " AllPosts len is: 97\n"
     ]
    },
    {
     "name": "stderr",
     "output_type": "stream",
     "text": [
      "\n",
      "\n",
      "\n",
      "\n",
      "\n",
      "\n",
      "\n",
      "\n",
      "\n",
      "\n",
      "\n",
      "\n",
      "Getting links for all the posts: 1568it [03:38,  6.68it/s]"
     ]
    },
    {
     "name": "stdout",
     "output_type": "stream",
     "text": [
      "Attempt number: 37 / 92.375\n",
      " AllPosts len is: 98\n"
     ]
    },
    {
     "name": "stderr",
     "output_type": "stream",
     "text": [
      "\n",
      "\n",
      "\n",
      "\n",
      "\n",
      "\n",
      "\n",
      "\n",
      "\n",
      "\n",
      "\n",
      "\n",
      "Getting links for all the posts: 1584it [03:41,  6.63it/s]"
     ]
    },
    {
     "name": "stdout",
     "output_type": "stream",
     "text": [
      "Attempt number: 38 / 92.375\n",
      " AllPosts len is: 99\n"
     ]
    },
    {
     "name": "stderr",
     "output_type": "stream",
     "text": [
      "\n",
      "\n",
      "\n",
      "\n",
      "\n",
      "\n",
      "\n",
      "\n",
      "\n",
      "\n",
      "\n",
      "\n",
      "Getting links for all the posts: 1600it [03:43,  6.86it/s]"
     ]
    },
    {
     "name": "stdout",
     "output_type": "stream",
     "text": [
      "Attempt number: 39 / 92.375\n",
      " AllPosts len is: 100\n"
     ]
    },
    {
     "name": "stderr",
     "output_type": "stream",
     "text": [
      "\n",
      "\n",
      "\n",
      "\n",
      "\n",
      "\n",
      "\n",
      "\n",
      "\n",
      "\n",
      "\n",
      "\n",
      "Getting links for all the posts: 1616it [03:45,  7.11it/s]"
     ]
    },
    {
     "name": "stdout",
     "output_type": "stream",
     "text": [
      "Attempt number: 40 / 92.375\n",
      " AllPosts len is: 101\n"
     ]
    },
    {
     "name": "stderr",
     "output_type": "stream",
     "text": [
      "\n",
      "\n",
      "\n",
      "\n",
      "\n",
      "\n",
      "\n",
      "\n",
      "\n",
      "\n",
      "\n",
      "\n",
      "Getting links for all the posts: 1632it [03:47,  7.10it/s]"
     ]
    },
    {
     "name": "stdout",
     "output_type": "stream",
     "text": [
      "Attempt number: 41 / 92.375\n",
      " AllPosts len is: 102\n"
     ]
    },
    {
     "name": "stderr",
     "output_type": "stream",
     "text": [
      "\n",
      "\n",
      "\n",
      "\n",
      "\n",
      "\n",
      "\n",
      "\n",
      "\n",
      "\n",
      "\n",
      "\n",
      "Getting links for all the posts: 1648it [03:49,  7.35it/s]"
     ]
    },
    {
     "name": "stdout",
     "output_type": "stream",
     "text": [
      "Attempt number: 42 / 92.375\n",
      " AllPosts len is: 103\n"
     ]
    },
    {
     "name": "stderr",
     "output_type": "stream",
     "text": [
      "\n",
      "\n",
      "\n",
      "\n",
      "\n",
      "\n",
      "\n",
      "\n",
      "\n",
      "\n",
      "\n",
      "\n",
      "Getting links for all the posts: 1664it [03:51,  8.15it/s]"
     ]
    },
    {
     "name": "stdout",
     "output_type": "stream",
     "text": [
      "Attempt number: 43 / 92.375\n",
      " AllPosts len is: 104\n"
     ]
    },
    {
     "name": "stderr",
     "output_type": "stream",
     "text": [
      "\n",
      "\n",
      "\n",
      "\n",
      "\n",
      "\n",
      "\n",
      "\n",
      "\n",
      "\n",
      "\n",
      "\n",
      "Getting links for all the posts: 1680it [03:53,  8.07it/s]"
     ]
    },
    {
     "name": "stdout",
     "output_type": "stream",
     "text": [
      "Attempt number: 44 / 92.375\n",
      " AllPosts len is: 105\n"
     ]
    },
    {
     "name": "stderr",
     "output_type": "stream",
     "text": [
      "\n",
      "\n",
      "\n",
      "\n",
      "\n",
      "\n",
      "\n",
      "\n",
      "\n",
      "\n",
      "\n",
      "\n",
      "Getting links for all the posts: 1696it [03:55,  7.39it/s]"
     ]
    },
    {
     "name": "stdout",
     "output_type": "stream",
     "text": [
      "Attempt number: 45 / 92.375\n",
      " AllPosts len is: 106\n"
     ]
    },
    {
     "name": "stderr",
     "output_type": "stream",
     "text": [
      "\n",
      "\n",
      "\n",
      "\n",
      "\n",
      "\n",
      "\n",
      "\n",
      "\n",
      "\n",
      "\n",
      "\n",
      "Getting links for all the posts: 1712it [03:58,  7.08it/s]"
     ]
    },
    {
     "name": "stdout",
     "output_type": "stream",
     "text": [
      "Attempt number: 46 / 92.375\n",
      " AllPosts len is: 107\n"
     ]
    },
    {
     "name": "stderr",
     "output_type": "stream",
     "text": [
      "\n",
      "\n",
      "\n",
      "\n",
      "\n",
      "\n",
      "\n",
      "\n",
      "\n",
      "\n",
      "\n",
      "\n",
      "Getting links for all the posts: 1728it [03:59,  8.36it/s]"
     ]
    },
    {
     "name": "stdout",
     "output_type": "stream",
     "text": [
      "Attempt number: 47 / 92.375\n",
      " AllPosts len is: 108\n"
     ]
    },
    {
     "name": "stderr",
     "output_type": "stream",
     "text": [
      "\n",
      "\n",
      "\n",
      "\n",
      "\n",
      "\n",
      "\n",
      "\n",
      "\n",
      "\n",
      "\n",
      "\n",
      "Getting links for all the posts: 1744it [04:02,  7.53it/s]"
     ]
    },
    {
     "name": "stdout",
     "output_type": "stream",
     "text": [
      "Attempt number: 48 / 92.375\n",
      " AllPosts len is: 109\n"
     ]
    },
    {
     "name": "stderr",
     "output_type": "stream",
     "text": [
      "\n",
      "\n",
      "\n",
      "\n",
      "\n",
      "\n",
      "\n",
      "\n",
      "\n",
      "\n",
      "\n",
      "\n",
      "Getting links for all the posts: 1760it [04:04,  7.30it/s]"
     ]
    },
    {
     "name": "stdout",
     "output_type": "stream",
     "text": [
      "Attempt number: 49 / 92.375\n",
      " AllPosts len is: 110\n"
     ]
    },
    {
     "name": "stderr",
     "output_type": "stream",
     "text": [
      "\n",
      "\n",
      "\n",
      "\n",
      "\n",
      "\n",
      "\n",
      "\n",
      "\n",
      "\n",
      "\n",
      "\n",
      "Getting links for all the posts: 1776it [04:06,  7.11it/s]"
     ]
    },
    {
     "name": "stdout",
     "output_type": "stream",
     "text": [
      "Attempt number: 50 / 92.375\n",
      " AllPosts len is: 111\n"
     ]
    },
    {
     "name": "stderr",
     "output_type": "stream",
     "text": [
      "\n",
      "\n",
      "\n",
      "\n",
      "\n",
      "\n",
      "\n",
      "\n",
      "\n",
      "\n",
      "\n",
      "\n",
      "Getting links for all the posts: 1792it [04:08,  7.85it/s]"
     ]
    },
    {
     "name": "stdout",
     "output_type": "stream",
     "text": [
      "Attempt number: 51 / 92.375\n",
      " AllPosts len is: 112\n"
     ]
    },
    {
     "name": "stderr",
     "output_type": "stream",
     "text": [
      "\n",
      "\n",
      "\n",
      "\n",
      "\n",
      "\n",
      "\n",
      "\n",
      "\n",
      "\n",
      "\n",
      "\n",
      "Getting links for all the posts: 1808it [04:10,  7.64it/s]"
     ]
    },
    {
     "name": "stdout",
     "output_type": "stream",
     "text": [
      "Attempt number: 52 / 92.375\n",
      " AllPosts len is: 113\n"
     ]
    },
    {
     "name": "stderr",
     "output_type": "stream",
     "text": [
      "\n",
      "\n",
      "\n",
      "\n",
      "\n",
      "\n",
      "\n",
      "\n",
      "\n",
      "\n",
      "\n",
      "\n",
      "Getting links for all the posts: 1824it [04:13,  6.78it/s]"
     ]
    },
    {
     "name": "stdout",
     "output_type": "stream",
     "text": [
      "Attempt number: 53 / 92.375\n",
      " AllPosts len is: 114\n"
     ]
    },
    {
     "name": "stderr",
     "output_type": "stream",
     "text": [
      "\n",
      "\n",
      "\n",
      "\n",
      "\n",
      "\n",
      "\n",
      "\n",
      "\n",
      "\n",
      "\n",
      "\n",
      "Getting links for all the posts: 1840it [04:15,  7.08it/s]"
     ]
    },
    {
     "name": "stdout",
     "output_type": "stream",
     "text": [
      "Attempt number: 54 / 92.375\n",
      " AllPosts len is: 115\n"
     ]
    },
    {
     "name": "stderr",
     "output_type": "stream",
     "text": [
      "\n",
      "\n",
      "\n",
      "\n",
      "\n",
      "\n",
      "\n",
      "\n",
      "\n",
      "\n",
      "\n",
      "\n",
      "Getting links for all the posts: 1856it [04:17,  7.33it/s]"
     ]
    },
    {
     "name": "stdout",
     "output_type": "stream",
     "text": [
      "Attempt number: 55 / 92.375\n",
      " AllPosts len is: 116\n"
     ]
    },
    {
     "name": "stderr",
     "output_type": "stream",
     "text": [
      "\n",
      "\n",
      "\n",
      "\n",
      "\n",
      "\n",
      "\n",
      "\n",
      "\n",
      "\n",
      "\n",
      "\n",
      "Getting links for all the posts: 1872it [04:19,  8.02it/s]"
     ]
    },
    {
     "name": "stdout",
     "output_type": "stream",
     "text": [
      "Attempt number: 56 / 92.375\n",
      " AllPosts len is: 117\n"
     ]
    },
    {
     "name": "stderr",
     "output_type": "stream",
     "text": [
      "\n",
      "\n",
      "\n",
      "\n",
      "\n",
      "\n",
      "\n",
      "\n",
      "\n",
      "\n",
      "\n",
      "\n",
      "Getting links for all the posts: 1888it [04:21,  7.26it/s]"
     ]
    },
    {
     "name": "stdout",
     "output_type": "stream",
     "text": [
      "Attempt number: 57 / 92.375\n",
      " AllPosts len is: 118\n"
     ]
    },
    {
     "name": "stderr",
     "output_type": "stream",
     "text": [
      "\n",
      "\n",
      "\n",
      "\n",
      "\n",
      "\n",
      "\n",
      "\n",
      "\n",
      "\n",
      "\n",
      "\n",
      "Getting links for all the posts: 1904it [04:23,  7.55it/s]"
     ]
    },
    {
     "name": "stdout",
     "output_type": "stream",
     "text": [
      "Attempt number: 58 / 92.375\n",
      " AllPosts len is: 119\n"
     ]
    },
    {
     "name": "stderr",
     "output_type": "stream",
     "text": [
      "\n",
      "\n",
      "\n",
      "\n",
      "\n",
      "\n",
      "\n",
      "\n",
      "\n",
      "\n",
      "\n",
      "\n",
      "Getting links for all the posts: 1920it [04:26,  7.00it/s]"
     ]
    },
    {
     "name": "stdout",
     "output_type": "stream",
     "text": [
      "Attempt number: 59 / 92.375\n",
      " AllPosts len is: 120\n"
     ]
    },
    {
     "name": "stderr",
     "output_type": "stream",
     "text": [
      "\n",
      "\n",
      "\n",
      "\n",
      "\n",
      "\n",
      "\n",
      "\n",
      "\n",
      "\n",
      "\n",
      "\n",
      "Getting links for all the posts: 1936it [04:27,  7.80it/s]"
     ]
    },
    {
     "name": "stdout",
     "output_type": "stream",
     "text": [
      "Attempt number: 60 / 92.375\n",
      " AllPosts len is: 121\n"
     ]
    },
    {
     "name": "stderr",
     "output_type": "stream",
     "text": [
      "\n",
      "\n",
      "\n",
      "\n",
      "\n",
      "\n",
      "\n",
      "\n",
      "\n",
      "\n",
      "\n",
      "\n",
      "Getting links for all the posts: 1952it [04:30,  7.43it/s]"
     ]
    },
    {
     "name": "stdout",
     "output_type": "stream",
     "text": [
      "Attempt number: 61 / 92.375\n",
      " AllPosts len is: 122\n"
     ]
    },
    {
     "name": "stderr",
     "output_type": "stream",
     "text": [
      "\n",
      "\n",
      "\n",
      "\n",
      "\n",
      "\n",
      "\n",
      "\n",
      "\n",
      "\n",
      "\n",
      "\n",
      "Getting links for all the posts: 1968it [04:32,  7.12it/s]"
     ]
    },
    {
     "name": "stdout",
     "output_type": "stream",
     "text": [
      "Attempt number: 62 / 92.375\n",
      " AllPosts len is: 123\n"
     ]
    },
    {
     "name": "stderr",
     "output_type": "stream",
     "text": [
      "\n",
      "\n",
      "\n",
      "\n",
      "\n",
      "\n",
      "\n",
      "\n",
      "\n",
      "\n",
      "\n",
      "\n",
      "Getting links for all the posts: 1984it [04:35,  6.37it/s]"
     ]
    },
    {
     "name": "stdout",
     "output_type": "stream",
     "text": [
      "Attempt number: 63 / 92.375\n",
      " AllPosts len is: 124\n"
     ]
    },
    {
     "name": "stderr",
     "output_type": "stream",
     "text": [
      "\n",
      "\n",
      "\n",
      "\n",
      "\n",
      "\n",
      "\n",
      "\n",
      "\n",
      "\n",
      "\n",
      "\n",
      "Getting links for all the posts: 2000it [04:37,  7.56it/s]"
     ]
    },
    {
     "name": "stdout",
     "output_type": "stream",
     "text": [
      "Attempt number: 64 / 92.375\n",
      " AllPosts len is: 125\n"
     ]
    },
    {
     "name": "stderr",
     "output_type": "stream",
     "text": [
      "\n",
      "\n",
      "\n",
      "\n",
      "\n",
      "\n",
      "\n",
      "\n",
      "\n",
      "\n",
      "\n",
      "\n",
      "Getting links for all the posts: 2016it [04:39,  6.94it/s]"
     ]
    },
    {
     "name": "stdout",
     "output_type": "stream",
     "text": [
      "Attempt number: 65 / 92.375\n",
      " AllPosts len is: 126\n"
     ]
    },
    {
     "name": "stderr",
     "output_type": "stream",
     "text": [
      "\n",
      "\n",
      "\n",
      "\n",
      "\n",
      "\n",
      "\n",
      "\n",
      "\n",
      "\n",
      "\n",
      "\n",
      "Getting links for all the posts: 2032it [04:42,  6.71it/s]"
     ]
    },
    {
     "name": "stdout",
     "output_type": "stream",
     "text": [
      "Attempt number: 66 / 92.375\n",
      " AllPosts len is: 127\n"
     ]
    },
    {
     "name": "stderr",
     "output_type": "stream",
     "text": [
      "\n",
      "\n",
      "\n",
      "\n",
      "\n",
      "\n",
      "\n",
      "\n",
      "\n",
      "\n",
      "\n",
      "\n",
      "Getting links for all the posts: 2048it [04:45,  6.41it/s]"
     ]
    },
    {
     "name": "stdout",
     "output_type": "stream",
     "text": [
      "Attempt number: 67 / 92.375\n",
      " AllPosts len is: 128\n"
     ]
    },
    {
     "name": "stderr",
     "output_type": "stream",
     "text": [
      "\n",
      "\n",
      "\n",
      "\n",
      "\n",
      "\n",
      "\n",
      "\n",
      "\n",
      "\n",
      "\n",
      "\n",
      "Getting links for all the posts: 2064it [04:47,  6.35it/s]"
     ]
    },
    {
     "name": "stdout",
     "output_type": "stream",
     "text": [
      "Attempt number: 68 / 92.375\n",
      " AllPosts len is: 129\n"
     ]
    },
    {
     "name": "stderr",
     "output_type": "stream",
     "text": [
      "\n",
      "\n",
      "\n",
      "\n",
      "\n",
      "\n",
      "\n",
      "\n",
      "\n",
      "\n",
      "\n",
      "\n",
      "Getting links for all the posts: 2080it [04:50,  6.39it/s]"
     ]
    },
    {
     "name": "stdout",
     "output_type": "stream",
     "text": [
      "Attempt number: 69 / 92.375\n",
      " AllPosts len is: 130\n"
     ]
    },
    {
     "name": "stderr",
     "output_type": "stream",
     "text": [
      "\n",
      "\n",
      "\n",
      "\n",
      "\n",
      "\n",
      "\n",
      "\n",
      "\n",
      "\n",
      "\n",
      "\n",
      "Getting links for all the posts: 2096it [04:52,  6.72it/s]"
     ]
    },
    {
     "name": "stdout",
     "output_type": "stream",
     "text": [
      "Attempt number: 70 / 92.375\n",
      " AllPosts len is: 131\n"
     ]
    },
    {
     "name": "stderr",
     "output_type": "stream",
     "text": [
      "\n",
      "\n",
      "\n",
      "\n",
      "\n",
      "\n",
      "\n",
      "\n",
      "\n",
      "\n",
      "\n",
      "\n",
      "Getting links for all the posts: 2112it [04:53,  7.89it/s]"
     ]
    },
    {
     "name": "stdout",
     "output_type": "stream",
     "text": [
      "Attempt number: 71 / 92.375\n",
      " AllPosts len is: 132\n"
     ]
    },
    {
     "name": "stderr",
     "output_type": "stream",
     "text": [
      "\n",
      "\n",
      "\n",
      "\n",
      "\n",
      "\n",
      "\n",
      "\n",
      "\n",
      "\n",
      "\n",
      "\n",
      "Getting links for all the posts: 2128it [04:56,  6.65it/s]"
     ]
    },
    {
     "name": "stdout",
     "output_type": "stream",
     "text": [
      "Attempt number: 72 / 92.375\n",
      " AllPosts len is: 133\n"
     ]
    },
    {
     "name": "stderr",
     "output_type": "stream",
     "text": [
      "\n",
      "\n",
      "\n",
      "\n",
      "\n",
      "\n",
      "\n",
      "\n",
      "\n",
      "\n",
      "\n",
      "\n",
      "Getting links for all the posts: 2144it [04:59,  6.22it/s]"
     ]
    },
    {
     "name": "stdout",
     "output_type": "stream",
     "text": [
      "Attempt number: 73 / 92.375\n",
      " AllPosts len is: 134\n"
     ]
    },
    {
     "name": "stderr",
     "output_type": "stream",
     "text": [
      "\n",
      "\n",
      "\n",
      "\n",
      "\n",
      "\n",
      "\n",
      "\n",
      "\n",
      "\n",
      "\n",
      "\n",
      "Getting links for all the posts: 2160it [05:02,  6.21it/s]"
     ]
    },
    {
     "name": "stdout",
     "output_type": "stream",
     "text": [
      "Attempt number: 74 / 92.375\n",
      " AllPosts len is: 135\n"
     ]
    },
    {
     "name": "stderr",
     "output_type": "stream",
     "text": [
      "\n",
      "\n",
      "\n",
      "\n",
      "\n",
      "\n",
      "\n",
      "\n",
      "\n",
      "\n",
      "\n",
      "\n",
      "Getting links for all the posts: 2176it [05:04,  6.64it/s]"
     ]
    },
    {
     "name": "stdout",
     "output_type": "stream",
     "text": [
      "Attempt number: 75 / 92.375\n",
      " AllPosts len is: 136\n"
     ]
    },
    {
     "name": "stderr",
     "output_type": "stream",
     "text": [
      "\n",
      "\n",
      "\n",
      "\n",
      "\n",
      "\n",
      "\n",
      "\n",
      "\n",
      "\n",
      "\n",
      "\n",
      "Getting links for all the posts: 2192it [05:06,  7.12it/s]"
     ]
    },
    {
     "name": "stdout",
     "output_type": "stream",
     "text": [
      "Attempt number: 76 / 92.375\n",
      " AllPosts len is: 137\n"
     ]
    },
    {
     "name": "stderr",
     "output_type": "stream",
     "text": [
      "\n",
      "\n",
      "\n",
      "\n",
      "\n",
      "\n",
      "\n",
      "\n",
      "\n",
      "\n",
      "\n",
      "\n",
      "Getting links for all the posts: 2208it [05:08,  6.81it/s]"
     ]
    },
    {
     "name": "stdout",
     "output_type": "stream",
     "text": [
      "Attempt number: 77 / 92.375\n",
      " AllPosts len is: 138\n"
     ]
    },
    {
     "name": "stderr",
     "output_type": "stream",
     "text": [
      "\n",
      "\n",
      "\n",
      "\n",
      "\n",
      "\n",
      "\n",
      "\n",
      "\n",
      "\n",
      "\n",
      "\n",
      "Getting links for all the posts: 2224it [05:11,  6.72it/s]"
     ]
    },
    {
     "name": "stdout",
     "output_type": "stream",
     "text": [
      "Attempt number: 78 / 92.375\n",
      " AllPosts len is: 139\n"
     ]
    },
    {
     "name": "stderr",
     "output_type": "stream",
     "text": [
      "\n",
      "\n",
      "\n",
      "\n",
      "\n",
      "\n",
      "\n",
      "\n",
      "\n",
      "\n",
      "\n",
      "\n",
      "Getting links for all the posts: 2240it [05:13,  6.83it/s]"
     ]
    },
    {
     "name": "stdout",
     "output_type": "stream",
     "text": [
      "Attempt number: 79 / 92.375\n",
      " AllPosts len is: 140\n"
     ]
    },
    {
     "name": "stderr",
     "output_type": "stream",
     "text": [
      "\n",
      "\n",
      "\n",
      "\n",
      "\n",
      "\n",
      "\n",
      "\n",
      "\n",
      "\n",
      "\n",
      "\n",
      "Getting links for all the posts: 2256it [05:16,  6.55it/s]"
     ]
    },
    {
     "name": "stdout",
     "output_type": "stream",
     "text": [
      "Attempt number: 80 / 92.375\n",
      " AllPosts len is: 141\n"
     ]
    },
    {
     "name": "stderr",
     "output_type": "stream",
     "text": [
      "\n",
      "\n",
      "\n",
      "\n",
      "\n",
      "\n",
      "\n",
      "\n",
      "\n",
      "\n",
      "\n",
      "\n",
      "Getting links for all the posts: 2272it [05:18,  6.92it/s]"
     ]
    },
    {
     "name": "stdout",
     "output_type": "stream",
     "text": [
      "Attempt number: 81 / 92.375\n",
      " AllPosts len is: 142\n"
     ]
    },
    {
     "name": "stderr",
     "output_type": "stream",
     "text": [
      "\n",
      "\n",
      "\n",
      "\n",
      "\n",
      "\n",
      "\n",
      "\n",
      "\n",
      "\n",
      "\n",
      "\n",
      "Getting links for all the posts: 2288it [05:20,  6.66it/s]"
     ]
    },
    {
     "name": "stdout",
     "output_type": "stream",
     "text": [
      "Attempt number: 82 / 92.375\n",
      " AllPosts len is: 143\n"
     ]
    },
    {
     "name": "stderr",
     "output_type": "stream",
     "text": [
      "\n",
      "\n",
      "\n",
      "\n",
      "\n",
      "\n",
      "\n",
      "\n",
      "\n",
      "\n",
      "\n",
      "\n",
      "Getting links for all the posts: 2304it [05:23,  6.60it/s]"
     ]
    },
    {
     "name": "stdout",
     "output_type": "stream",
     "text": [
      "Attempt number: 83 / 92.375\n",
      " AllPosts len is: 144\n"
     ]
    },
    {
     "name": "stderr",
     "output_type": "stream",
     "text": [
      "\n",
      "\n",
      "\n",
      "\n",
      "\n",
      "\n",
      "\n",
      "\n",
      "\n",
      "\n",
      "\n",
      "\n",
      "Getting links for all the posts: 2320it [05:25,  7.03it/s]"
     ]
    },
    {
     "name": "stdout",
     "output_type": "stream",
     "text": [
      "Attempt number: 84 / 92.375\n",
      " AllPosts len is: 145\n"
     ]
    },
    {
     "name": "stderr",
     "output_type": "stream",
     "text": [
      "\n",
      "\n",
      "\n",
      "\n",
      "\n",
      "\n",
      "\n",
      "\n",
      "\n",
      "\n",
      "\n",
      "\n",
      "Getting links for all the posts: 2336it [05:27,  6.91it/s]"
     ]
    },
    {
     "name": "stdout",
     "output_type": "stream",
     "text": [
      "Attempt number: 85 / 92.375\n",
      " AllPosts len is: 146\n"
     ]
    },
    {
     "name": "stderr",
     "output_type": "stream",
     "text": [
      "\n",
      "\n",
      "\n",
      "\n",
      "\n",
      "\n",
      "\n",
      "\n",
      "\n",
      "\n",
      "\n",
      "\n",
      "Getting links for all the posts: 2352it [05:30,  6.89it/s]"
     ]
    },
    {
     "name": "stdout",
     "output_type": "stream",
     "text": [
      "Attempt number: 86 / 92.375\n",
      " AllPosts len is: 147\n"
     ]
    },
    {
     "name": "stderr",
     "output_type": "stream",
     "text": [
      "\n",
      "\n",
      "\n",
      "\n",
      "\n",
      "\n",
      "\n",
      "\n",
      "\n",
      "\n",
      "\n",
      "\n",
      "Getting links for all the posts: 2368it [05:31,  7.75it/s]"
     ]
    },
    {
     "name": "stdout",
     "output_type": "stream",
     "text": [
      "Attempt number: 87 / 92.375\n",
      " AllPosts len is: 148\n"
     ]
    },
    {
     "name": "stderr",
     "output_type": "stream",
     "text": [
      "\n",
      "\n",
      "\n",
      "\n",
      "\n",
      "\n",
      "\n",
      "\n",
      "\n",
      "\n",
      "\n",
      "\n",
      "Getting links for all the posts: 2384it [05:33,  8.15it/s]"
     ]
    },
    {
     "name": "stdout",
     "output_type": "stream",
     "text": [
      "Attempt number: 88 / 92.375\n",
      " AllPosts len is: 149\n"
     ]
    },
    {
     "name": "stderr",
     "output_type": "stream",
     "text": [
      "\n",
      "\n",
      "\n",
      "\n",
      "\n",
      "\n",
      "\n",
      "\n",
      "\n",
      "\n",
      "\n",
      "\n",
      "Getting links for all the posts: 2400it [05:35,  8.26it/s]"
     ]
    },
    {
     "name": "stdout",
     "output_type": "stream",
     "text": [
      "Attempt number: 89 / 92.375\n",
      " AllPosts len is: 150\n"
     ]
    },
    {
     "name": "stderr",
     "output_type": "stream",
     "text": [
      "\n",
      "\n",
      "\n",
      "\n",
      "\n",
      "\n",
      "\n",
      "\n",
      "\n",
      "\n",
      "\n",
      "\n",
      "Getting links for all the posts: 2416it [05:38,  7.01it/s]"
     ]
    },
    {
     "name": "stdout",
     "output_type": "stream",
     "text": [
      "Attempt number: 90 / 92.375\n",
      " AllPosts len is: 151\n"
     ]
    },
    {
     "name": "stderr",
     "output_type": "stream",
     "text": [
      "\n",
      "\n",
      "\n",
      "\n",
      "\n",
      "\n",
      "\n",
      "\n",
      "\n",
      "\n",
      "\n",
      "\n",
      "Getting links for all the posts: 2432it [05:39,  7.81it/s]"
     ]
    },
    {
     "name": "stdout",
     "output_type": "stream",
     "text": [
      "Attempt number: 91 / 92.375\n",
      " AllPosts len is: 152\n"
     ]
    },
    {
     "name": "stderr",
     "output_type": "stream",
     "text": [
      "\n",
      "\n",
      "\n",
      "\n",
      "\n",
      "\n",
      "\n",
      "\n",
      "\n",
      "\n",
      "\n",
      "\n",
      "Getting links for all the posts: 2448it [05:42,  7.09it/s]"
     ]
    },
    {
     "name": "stdout",
     "output_type": "stream",
     "text": [
      "Attempt number: 92 / 92.375\n",
      " AllPosts len is: 153\n"
     ]
    },
    {
     "name": "stderr",
     "output_type": "stream",
     "text": [
      "\n",
      "\n",
      "\n",
      "\n",
      "\n",
      "\n",
      "\n",
      "\n",
      "\n",
      "\n",
      "\n",
      "\n",
      "Getting links for all the posts: 2464it [05:45,  6.51it/s]"
     ]
    },
    {
     "name": "stdout",
     "output_type": "stream",
     "text": [
      "Attempt number: 93 / 92.375\n",
      " AllPosts len is: 154\n",
      "Amount of links to posts scraped: 739\n"
     ]
    }
   ],
   "source": [
    "##############################Main me\n",
    "if __name__ == \"__main__\":\n",
    "    #Getting global variables from arguments:\n",
    "    #args = parseArgs()\n",
    "    URL_TO_SCRAPE = \"https://www.instagram.com/antlerofficial\"#args['input_addr']\n",
    "    XLSX_OUTPUT_FILE_NAME = (\"./instagram_dump\" + \"_\" + datetime.datetime.now().strftime(\"%Y_%m_%d_%H_%M\") + \".xlsx\")#, required=Falseargs['output_file']\n",
    "    VERBOSE = True#args['verbose']\n",
    "    \n",
    "    #Getting all the post links\n",
    "    driver = webdriver.Chrome()\n",
    "    driver.get(URL_TO_SCRAPE)\n",
    "    #time.sleep(10)\n",
    "    allPosts = scrollPageToBottomAndFindPostLinks()\n",
    "    \n",
    "    #Concatenate all lists in one\n",
    "    allPosts = sum(allPosts, [])\n",
    "    #Remove dupes from posts\n",
    "    allPosts = list(set(allPosts))\n",
    "    allPosts = [\"https://www.instagram.com\" + x for x in allPosts]\n",
    "    if VERBOSE:\n",
    "        print(\"Amount of links to posts scraped: \" + str(len(allPosts)))\n"
   ]
  },
  {
   "cell_type": "code",
   "execution_count": 50,
   "metadata": {},
   "outputs": [
    {
     "name": "stdout",
     "output_type": "stream",
     "text": [
      "expandAllComments() - expanded\n"
     ]
    }
   ],
   "source": [
    "# #Temporary test cell\n",
    "# driver = webdriver.Chrome()\n",
    "# #allPosts = list(set(allPosts))\n",
    "# #allPosts = [\"https://www.instagram.com\" + x for x in allPosts]\n",
    "# driver.get(\"https://www.instagram.com/p/BfK9n_WguTA/\")\n",
    "# len(driver.find_element_by_tag_name(\"article\").find_elements_by_tag_name(\"li\"))\n",
    "# expandAllComments(driver)"
   ]
  },
  {
   "cell_type": "code",
   "execution_count": 74,
   "metadata": {},
   "outputs": [
    {
     "data": {
      "text/plain": [
       "4"
      ]
     },
     "execution_count": 74,
     "metadata": {},
     "output_type": "execute_result"
    }
   ],
   "source": [
    "len(allPosts)"
   ]
  },
  {
   "cell_type": "code",
   "execution_count": 75,
   "metadata": {
    "scrolled": true
   },
   "outputs": [],
   "source": [
    "# TODO: Timeout mechanism for expandallcomments - done - todebug\n",
    "def getDataFromPostList(post_links):\n",
    "    allPostData = []\n",
    "    #Parsing every post\n",
    "    driver = webdriver.Chrome()\n",
    "    for link in tqdm(post_links, desc=\"Parsing post data\"):\n",
    "        driver.get(link)\n",
    "        time.sleep(DELAY_GETALLPOSTDATA)\n",
    "        allPostData.append(getPostData(driver))\n",
    "    \n",
    "    driver.close()\n",
    "    return allPostData\n",
    "        \n",
    "# if __name__ == \"__main__\":\n",
    "#     getDataFromPostList(allPosts)"
   ]
  },
  {
   "cell_type": "code",
   "execution_count": 72,
   "metadata": {},
   "outputs": [],
   "source": [
    "import threading"
   ]
  },
  {
   "cell_type": "code",
   "execution_count": 73,
   "metadata": {},
   "outputs": [
    {
     "name": "stdout",
     "output_type": "stream",
     "text": [
      "Splitting 13 posts\n"
     ]
    }
   ],
   "source": [
    "THREAD_NUMBER = 4\n",
    "threads = []\n",
    "\n",
    "#posts = list(range(1, 1000))\n",
    "\n",
    "posts = splitListToSublists(allPosts, THREAD_NUMBER)\n",
    "\n",
    "for a in range(1,THREAD_NUMBER):\n",
    "    threads.append(\"threading.Thread(target=getDataFromPostList, args=(\" + str(posts[a-1]) + \",)).start()\")  \n",
    "    \n",
    "for a in threads:\n",
    "    exec(a)"
   ]
  },
  {
   "cell_type": "code",
   "execution_count": 54,
   "metadata": {},
   "outputs": [
    {
     "name": "stdout",
     "output_type": "stream",
     "text": [
      "Finished!\n"
     ]
    }
   ],
   "source": [
    "if __name__ == \"__main__\":\n",
    "    #Export to file:\n",
    "    allPostData = sum(allPostData, [])\n",
    "    df = pd.DataFrame.from_dict(allPostData)\n",
    "    df = df.astype(str)\n",
    "    df = df.reindex([\"post_id\", 'post_link', \"image_link\", \"date\", \"post\", \"post_author\", \"likes\", \"comment\", \"comment_author\"], axis=1)\n",
    "    df.index.name = \"entry\"\n",
    "    #Sort by post date, keep post and comment order\n",
    "    df.reset_index(level=0, inplace=True)\n",
    "    df['date'] = pd.to_datetime(df.date)\n",
    "    df_sorted = df.sort_values(['date', 'entry'], ascending=[True, True])\n",
    "    df_sorted.reset_index(inplace=True)\n",
    "    df_sorted = df_sorted.iloc[::-1]\n",
    "    df_sorted.drop(labels=[\"index\", \"entry\"], axis=1, inplace=True)\n",
    "    df_sorted.to_excel(XLSX_OUTPUT_FILE_NAME, index=False)\n",
    "    driver.quit()\n",
    "    print(\"Finished!\")"
   ]
  },
  {
   "cell_type": "code",
   "execution_count": 59,
   "metadata": {},
   "outputs": [],
   "source": []
  },
  {
   "cell_type": "code",
   "execution_count": 61,
   "metadata": {},
   "outputs": [
    {
     "name": "stdout",
     "output_type": "stream",
     "text": [
      "3136\n"
     ]
    }
   ],
   "source": []
  },
  {
   "cell_type": "code",
   "execution_count": null,
   "metadata": {},
   "outputs": [],
   "source": []
  }
 ],
 "metadata": {
  "kernelspec": {
   "display_name": "Python 3",
   "language": "python",
   "name": "python3"
  },
  "language_info": {
   "codemirror_mode": {
    "name": "ipython",
    "version": 3
   },
   "file_extension": ".py",
   "mimetype": "text/x-python",
   "name": "python",
   "nbconvert_exporter": "python",
   "pygments_lexer": "ipython3",
   "version": "3.6.4"
  }
 },
 "nbformat": 4,
 "nbformat_minor": 2
}
