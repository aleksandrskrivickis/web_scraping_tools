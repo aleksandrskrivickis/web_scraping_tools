{
 "cells": [
  {
   "cell_type": "code",
   "execution_count": 4,
   "metadata": {},
   "outputs": [
    {
     "name": "stdout",
     "output_type": "stream",
     "text": [
      "Requirement already satisfied: selenium in c:\\programdata\\anaconda3\\lib\\site-packages (3.12.0)\n"
     ]
    },
    {
     "name": "stderr",
     "output_type": "stream",
     "text": [
      "notebook 5.4.0 requires ipykernel, which is not installed.\n",
      "jupyter 1.0.0 requires ipykernel, which is not installed.\n",
      "jupyter-console 5.2.0 requires ipykernel, which is not installed.\n",
      "ipywidgets 7.1.1 requires ipykernel>=4.5.1, which is not installed.\n",
      "You are using pip version 10.0.0, however version 10.0.1 is available.\n",
      "You should consider upgrading via the 'python -m pip install --upgrade pip' command.\n"
     ]
    }
   ],
   "source": [
    "#!pip install selenium"
   ]
  },
  {
   "cell_type": "code",
   "execution_count": 3,
   "metadata": {},
   "outputs": [],
   "source": [
    "import selenium\n",
    "from selenium import webdriver\n",
    "import time\n",
    "import pandas as pd\n",
    "import re"
   ]
  },
  {
   "cell_type": "code",
   "execution_count": 201,
   "metadata": {},
   "outputs": [],
   "source": [
    "def scrollPageToBottomAndFindPostLinks():\n",
    "    allPosts = []\n",
    "    \n",
    "    prevHeight = 0\n",
    "    newHeight = 1\n",
    "\n",
    "    while prevHeight != newHeight:\n",
    "        prevHeight = int(driver.execute_script(\"return document.body.scrollHeight;\"))\n",
    "        driver.execute_script(\"window.scrollTo(0, document.body.scrollHeight)\")\n",
    "        time.sleep(2)\n",
    "        allPosts.append(findPostLinks(driver))\n",
    "        newHeight = int(driver.execute_script(\"return document.body.scrollHeight;\"))\n",
    "        \n",
    "    return allPosts; \n",
    "\n",
    "def findPostLinks(driver):\n",
    "    posts = []\n",
    "    src = driver.page_source\n",
    "    src_splitted = src.split(\"</div>\")\n",
    "\n",
    "    for entry in src_splitted:\n",
    "        postRegex = re.findall(\"(<a href=\\\")(.*)(\\?taken-by=\\w*\\\">)\", entry)\n",
    "        if len(postRegex) > 0:\n",
    "            posts.append(postRegex[0][1])\n",
    "    return posts\n",
    "\n",
    "def getPostData(driver):\n",
    "    postData = []\n",
    "    expandAllComments(driver)\n",
    "    article = driver.find_element_by_tag_name(\"article\")\n",
    "    post_link = driver.current_url\n",
    "    image_link = driver.find_elements_by_tag_name('img')[1].get_attribute('src')\n",
    "    author = article.text.splitlines()[0]\n",
    "    authors, comments = getAllCommentsFromArticle(driver)\n",
    "    likes = driver.find_element_by_tag_name('span').text.splitlines()[6].replace(\" likes\", \"\")\n",
    "    date = driver.find_element_by_tag_name('article').text.splitlines()[len(driver.find_element_by_tag_name('article').text.splitlines()) - 2]\n",
    "    src = driver.page_source\n",
    "\n",
    "    firstRun = True\n",
    "    for a, c in zip(authors, comments):\n",
    "        if firstRun:\n",
    "            firstRun = False\n",
    "            postData.append({\"post_link\" : post_link, \"image_link\" : image_link, \"post_author\" : a, \"post\" : c, \"likes\": likes, \"date\": date, \"comment\": \"\", \"comment_author\": \"\"})\n",
    "        else:\n",
    "            postData.append({\"post_link\" : \"\", \"image_link\" : \"\", \"post_author\" : \"\", \"post\" : \"\", \"likes\": \"\", \"date\": \"\", \"comment\": c, \"comment_author\": a})\n",
    "    return postData\n",
    "\n",
    "def getAllCommentsFromArticle(driver):\n",
    "    #Posts description and authors name is a very first comment's content and authors name\n",
    "    authors = []\n",
    "    comments = []\n",
    "    article = driver.find_element_by_tag_name(\"article\")\n",
    "    comment = article.find_elements_by_tag_name(\"li\")\n",
    "    for com in comment:\n",
    "        #print(\"\\n\" + com.find_element_by_tag_name(\"a\").text + \", post: \" + com.find_element_by_tag_name(\"span\").text)\n",
    "        authors.append(com.find_element_by_tag_name(\"a\").text)\n",
    "        comments.append(com.find_element_by_tag_name(\"span\").text)\n",
    "    return authors, comments\n",
    "\n",
    "def expandAllComments(driver):\n",
    "    try:\n",
    "        el = driver.find_element_by_xpath(\"//*[@id=\\\"react-root\\\"]/section/main/div/div/article/div[2]/div[1]/ul/li[2]/a\")\n",
    "        while (el.text == \"Load more comments\" or \"View all\" in el.text):\n",
    "            el = driver.find_element_by_xpath(\"//*[@id=\\\"react-root\\\"]/section/main/div/div/article/div[2]/div[1]/ul/li[2]/a\")\n",
    "            if (el.text == \"Load more comments\" or \"View all\" in el.text):\n",
    "                el.click()\n",
    "            time.sleep(1)\n",
    "    except Exception as e:\n",
    "        print(\"expandAllComments() - expanded\")"
   ]
  },
  {
   "cell_type": "code",
   "execution_count": 7,
   "metadata": {},
   "outputs": [
    {
     "name": "stdout",
     "output_type": "stream",
     "text": [
      "Amount of links to posts scraped: 144\n"
     ]
    }
   ],
   "source": [
    "if __name__ == \"__main__\":\n",
    "    driver = webdriver.Chrome()\n",
    "    driver.get(\"https://www.instagram.com/antlerofficial\")\n",
    "    allPosts = scrollPageToBottomAndFindPostLinks()\n",
    "    \n",
    "    #Concatenate all lists in one\n",
    "    allPosts = sum(allPosts, [])\n",
    "    #Remove dupes from posts\n",
    "    allPosts = list(set(allPosts))\n",
    "    allPosts = [\"https://www.instagram.com\" + x for x in allPosts]\n",
    "    print(\"Amount of links to posts scraped: \" + str(len(allPosts)))"
   ]
  },
  {
   "cell_type": "code",
   "execution_count": 202,
   "metadata": {},
   "outputs": [
    {
     "name": "stdout",
     "output_type": "stream",
     "text": [
      "Exception in expandAllComments(): Message: no such element: Unable to locate element: {\"method\":\"xpath\",\"selector\":\"//*[@id=\"react-root\"]/section/main/div/div/article/div[2]/div[1]/ul/li[2]/a\"}\n",
      "  (Session info: chrome=66.0.3359.139)\n",
      "  (Driver info: chromedriver=2.38.552522 (437e6fbedfa8762dec75e2c5b3ddb86763dc9dcb),platform=Windows NT 10.0.16299 x86_64)\n",
      "\n",
      "Exception in expandAllComments(): Message: stale element reference: element is not attached to the page document\n",
      "  (Session info: chrome=66.0.3359.139)\n",
      "  (Driver info: chromedriver=2.38.552522 (437e6fbedfa8762dec75e2c5b3ddb86763dc9dcb),platform=Windows NT 10.0.16299 x86_64)\n",
      "\n",
      "Exception in expandAllComments(): Message: no such element: Unable to locate element: {\"method\":\"xpath\",\"selector\":\"//*[@id=\"react-root\"]/section/main/div/div/article/div[2]/div[1]/ul/li[2]/a\"}\n",
      "  (Session info: chrome=66.0.3359.139)\n",
      "  (Driver info: chromedriver=2.38.552522 (437e6fbedfa8762dec75e2c5b3ddb86763dc9dcb),platform=Windows NT 10.0.16299 x86_64)\n",
      "\n",
      "Exception in expandAllComments(): Message: no such element: Unable to locate element: {\"method\":\"xpath\",\"selector\":\"//*[@id=\"react-root\"]/section/main/div/div/article/div[2]/div[1]/ul/li[2]/a\"}\n",
      "  (Session info: chrome=66.0.3359.139)\n",
      "  (Driver info: chromedriver=2.38.552522 (437e6fbedfa8762dec75e2c5b3ddb86763dc9dcb),platform=Windows NT 10.0.16299 x86_64)\n",
      "\n",
      "Exception in expandAllComments(): Message: no such element: Unable to locate element: {\"method\":\"xpath\",\"selector\":\"//*[@id=\"react-root\"]/section/main/div/div/article/div[2]/div[1]/ul/li[2]/a\"}\n",
      "  (Session info: chrome=66.0.3359.139)\n",
      "  (Driver info: chromedriver=2.38.552522 (437e6fbedfa8762dec75e2c5b3ddb86763dc9dcb),platform=Windows NT 10.0.16299 x86_64)\n",
      "\n",
      "Exception in expandAllComments(): Message: no such element: Unable to locate element: {\"method\":\"xpath\",\"selector\":\"//*[@id=\"react-root\"]/section/main/div/div/article/div[2]/div[1]/ul/li[2]/a\"}\n",
      "  (Session info: chrome=66.0.3359.139)\n",
      "  (Driver info: chromedriver=2.38.552522 (437e6fbedfa8762dec75e2c5b3ddb86763dc9dcb),platform=Windows NT 10.0.16299 x86_64)\n",
      "\n",
      "Exception in expandAllComments(): Message: no such element: Unable to locate element: {\"method\":\"xpath\",\"selector\":\"//*[@id=\"react-root\"]/section/main/div/div/article/div[2]/div[1]/ul/li[2]/a\"}\n",
      "  (Session info: chrome=66.0.3359.139)\n",
      "  (Driver info: chromedriver=2.38.552522 (437e6fbedfa8762dec75e2c5b3ddb86763dc9dcb),platform=Windows NT 10.0.16299 x86_64)\n",
      "\n",
      "Exception in expandAllComments(): Message: no such element: Unable to locate element: {\"method\":\"xpath\",\"selector\":\"//*[@id=\"react-root\"]/section/main/div/div/article/div[2]/div[1]/ul/li[2]/a\"}\n",
      "  (Session info: chrome=66.0.3359.139)\n",
      "  (Driver info: chromedriver=2.38.552522 (437e6fbedfa8762dec75e2c5b3ddb86763dc9dcb),platform=Windows NT 10.0.16299 x86_64)\n",
      "\n",
      "Exception in expandAllComments(): Message: no such element: Unable to locate element: {\"method\":\"xpath\",\"selector\":\"//*[@id=\"react-root\"]/section/main/div/div/article/div[2]/div[1]/ul/li[2]/a\"}\n",
      "  (Session info: chrome=66.0.3359.139)\n",
      "  (Driver info: chromedriver=2.38.552522 (437e6fbedfa8762dec75e2c5b3ddb86763dc9dcb),platform=Windows NT 10.0.16299 x86_64)\n",
      "\n",
      "Exception in expandAllComments(): Message: no such element: Unable to locate element: {\"method\":\"xpath\",\"selector\":\"//*[@id=\"react-root\"]/section/main/div/div/article/div[2]/div[1]/ul/li[2]/a\"}\n",
      "  (Session info: chrome=66.0.3359.139)\n",
      "  (Driver info: chromedriver=2.38.552522 (437e6fbedfa8762dec75e2c5b3ddb86763dc9dcb),platform=Windows NT 10.0.16299 x86_64)\n",
      "\n",
      "Exception in expandAllComments(): Message: no such element: Unable to locate element: {\"method\":\"xpath\",\"selector\":\"//*[@id=\"react-root\"]/section/main/div/div/article/div[2]/div[1]/ul/li[2]/a\"}\n",
      "  (Session info: chrome=66.0.3359.139)\n",
      "  (Driver info: chromedriver=2.38.552522 (437e6fbedfa8762dec75e2c5b3ddb86763dc9dcb),platform=Windows NT 10.0.16299 x86_64)\n",
      "\n",
      "Exception in expandAllComments(): Message: no such element: Unable to locate element: {\"method\":\"xpath\",\"selector\":\"//*[@id=\"react-root\"]/section/main/div/div/article/div[2]/div[1]/ul/li[2]/a\"}\n",
      "  (Session info: chrome=66.0.3359.139)\n",
      "  (Driver info: chromedriver=2.38.552522 (437e6fbedfa8762dec75e2c5b3ddb86763dc9dcb),platform=Windows NT 10.0.16299 x86_64)\n",
      "\n",
      "Exception in expandAllComments(): Message: no such element: Unable to locate element: {\"method\":\"xpath\",\"selector\":\"//*[@id=\"react-root\"]/section/main/div/div/article/div[2]/div[1]/ul/li[2]/a\"}\n",
      "  (Session info: chrome=66.0.3359.139)\n",
      "  (Driver info: chromedriver=2.38.552522 (437e6fbedfa8762dec75e2c5b3ddb86763dc9dcb),platform=Windows NT 10.0.16299 x86_64)\n",
      "\n",
      "Exception in expandAllComments(): Message: no such element: Unable to locate element: {\"method\":\"xpath\",\"selector\":\"//*[@id=\"react-root\"]/section/main/div/div/article/div[2]/div[1]/ul/li[2]/a\"}\n",
      "  (Session info: chrome=66.0.3359.139)\n",
      "  (Driver info: chromedriver=2.38.552522 (437e6fbedfa8762dec75e2c5b3ddb86763dc9dcb),platform=Windows NT 10.0.16299 x86_64)\n",
      "\n",
      "Exception in expandAllComments(): Message: no such element: Unable to locate element: {\"method\":\"xpath\",\"selector\":\"//*[@id=\"react-root\"]/section/main/div/div/article/div[2]/div[1]/ul/li[2]/a\"}\n",
      "  (Session info: chrome=66.0.3359.139)\n",
      "  (Driver info: chromedriver=2.38.552522 (437e6fbedfa8762dec75e2c5b3ddb86763dc9dcb),platform=Windows NT 10.0.16299 x86_64)\n",
      "\n",
      "Exception in expandAllComments(): Message: stale element reference: element is not attached to the page document\n",
      "  (Session info: chrome=66.0.3359.139)\n",
      "  (Driver info: chromedriver=2.38.552522 (437e6fbedfa8762dec75e2c5b3ddb86763dc9dcb),platform=Windows NT 10.0.16299 x86_64)\n",
      "\n",
      "Exception in expandAllComments(): Message: no such element: Unable to locate element: {\"method\":\"xpath\",\"selector\":\"//*[@id=\"react-root\"]/section/main/div/div/article/div[2]/div[1]/ul/li[2]/a\"}\n",
      "  (Session info: chrome=66.0.3359.139)\n",
      "  (Driver info: chromedriver=2.38.552522 (437e6fbedfa8762dec75e2c5b3ddb86763dc9dcb),platform=Windows NT 10.0.16299 x86_64)\n",
      "\n",
      "Exception in expandAllComments(): Message: no such element: Unable to locate element: {\"method\":\"xpath\",\"selector\":\"//*[@id=\"react-root\"]/section/main/div/div/article/div[2]/div[1]/ul/li[2]/a\"}\n",
      "  (Session info: chrome=66.0.3359.139)\n",
      "  (Driver info: chromedriver=2.38.552522 (437e6fbedfa8762dec75e2c5b3ddb86763dc9dcb),platform=Windows NT 10.0.16299 x86_64)\n",
      "\n",
      "Exception in expandAllComments(): Message: no such element: Unable to locate element: {\"method\":\"xpath\",\"selector\":\"//*[@id=\"react-root\"]/section/main/div/div/article/div[2]/div[1]/ul/li[2]/a\"}\n",
      "  (Session info: chrome=66.0.3359.139)\n",
      "  (Driver info: chromedriver=2.38.552522 (437e6fbedfa8762dec75e2c5b3ddb86763dc9dcb),platform=Windows NT 10.0.16299 x86_64)\n",
      "\n",
      "Exception in expandAllComments(): Message: stale element reference: element is not attached to the page document\n",
      "  (Session info: chrome=66.0.3359.139)\n",
      "  (Driver info: chromedriver=2.38.552522 (437e6fbedfa8762dec75e2c5b3ddb86763dc9dcb),platform=Windows NT 10.0.16299 x86_64)\n",
      "\n",
      "Exception in expandAllComments(): Message: no such element: Unable to locate element: {\"method\":\"xpath\",\"selector\":\"//*[@id=\"react-root\"]/section/main/div/div/article/div[2]/div[1]/ul/li[2]/a\"}\n",
      "  (Session info: chrome=66.0.3359.139)\n",
      "  (Driver info: chromedriver=2.38.552522 (437e6fbedfa8762dec75e2c5b3ddb86763dc9dcb),platform=Windows NT 10.0.16299 x86_64)\n",
      "\n",
      "Exception in expandAllComments(): Message: stale element reference: element is not attached to the page document\n",
      "  (Session info: chrome=66.0.3359.139)\n",
      "  (Driver info: chromedriver=2.38.552522 (437e6fbedfa8762dec75e2c5b3ddb86763dc9dcb),platform=Windows NT 10.0.16299 x86_64)\n",
      "\n",
      "Exception in expandAllComments(): Message: stale element reference: element is not attached to the page document\n",
      "  (Session info: chrome=66.0.3359.139)\n",
      "  (Driver info: chromedriver=2.38.552522 (437e6fbedfa8762dec75e2c5b3ddb86763dc9dcb),platform=Windows NT 10.0.16299 x86_64)\n",
      "\n",
      "Exception in expandAllComments(): Message: no such element: Unable to locate element: {\"method\":\"xpath\",\"selector\":\"//*[@id=\"react-root\"]/section/main/div/div/article/div[2]/div[1]/ul/li[2]/a\"}\n",
      "  (Session info: chrome=66.0.3359.139)\n",
      "  (Driver info: chromedriver=2.38.552522 (437e6fbedfa8762dec75e2c5b3ddb86763dc9dcb),platform=Windows NT 10.0.16299 x86_64)\n",
      "\n",
      "Exception in expandAllComments(): Message: no such element: Unable to locate element: {\"method\":\"xpath\",\"selector\":\"//*[@id=\"react-root\"]/section/main/div/div/article/div[2]/div[1]/ul/li[2]/a\"}\n",
      "  (Session info: chrome=66.0.3359.139)\n",
      "  (Driver info: chromedriver=2.38.552522 (437e6fbedfa8762dec75e2c5b3ddb86763dc9dcb),platform=Windows NT 10.0.16299 x86_64)\n",
      "\n"
     ]
    },
    {
     "name": "stdout",
     "output_type": "stream",
     "text": [
      "Exception in expandAllComments(): Message: no such element: Unable to locate element: {\"method\":\"xpath\",\"selector\":\"//*[@id=\"react-root\"]/section/main/div/div/article/div[2]/div[1]/ul/li[2]/a\"}\n",
      "  (Session info: chrome=66.0.3359.139)\n",
      "  (Driver info: chromedriver=2.38.552522 (437e6fbedfa8762dec75e2c5b3ddb86763dc9dcb),platform=Windows NT 10.0.16299 x86_64)\n",
      "\n",
      "Exception in expandAllComments(): Message: stale element reference: element is not attached to the page document\n",
      "  (Session info: chrome=66.0.3359.139)\n",
      "  (Driver info: chromedriver=2.38.552522 (437e6fbedfa8762dec75e2c5b3ddb86763dc9dcb),platform=Windows NT 10.0.16299 x86_64)\n",
      "\n",
      "Exception in expandAllComments(): Message: no such element: Unable to locate element: {\"method\":\"xpath\",\"selector\":\"//*[@id=\"react-root\"]/section/main/div/div/article/div[2]/div[1]/ul/li[2]/a\"}\n",
      "  (Session info: chrome=66.0.3359.139)\n",
      "  (Driver info: chromedriver=2.38.552522 (437e6fbedfa8762dec75e2c5b3ddb86763dc9dcb),platform=Windows NT 10.0.16299 x86_64)\n",
      "\n",
      "Exception in expandAllComments(): Message: no such element: Unable to locate element: {\"method\":\"xpath\",\"selector\":\"//*[@id=\"react-root\"]/section/main/div/div/article/div[2]/div[1]/ul/li[2]/a\"}\n",
      "  (Session info: chrome=66.0.3359.139)\n",
      "  (Driver info: chromedriver=2.38.552522 (437e6fbedfa8762dec75e2c5b3ddb86763dc9dcb),platform=Windows NT 10.0.16299 x86_64)\n",
      "\n",
      "Exception in expandAllComments(): Message: no such element: Unable to locate element: {\"method\":\"xpath\",\"selector\":\"//*[@id=\"react-root\"]/section/main/div/div/article/div[2]/div[1]/ul/li[2]/a\"}\n",
      "  (Session info: chrome=66.0.3359.139)\n",
      "  (Driver info: chromedriver=2.38.552522 (437e6fbedfa8762dec75e2c5b3ddb86763dc9dcb),platform=Windows NT 10.0.16299 x86_64)\n",
      "\n",
      "Exception in expandAllComments(): Message: no such element: Unable to locate element: {\"method\":\"xpath\",\"selector\":\"//*[@id=\"react-root\"]/section/main/div/div/article/div[2]/div[1]/ul/li[2]/a\"}\n",
      "  (Session info: chrome=66.0.3359.139)\n",
      "  (Driver info: chromedriver=2.38.552522 (437e6fbedfa8762dec75e2c5b3ddb86763dc9dcb),platform=Windows NT 10.0.16299 x86_64)\n",
      "\n"
     ]
    }
   ],
   "source": [
    "allPostData = []\n",
    "for link in allPosts:\n",
    "    driver.get(link)\n",
    "    time.sleep(2)\n",
    "    allPostData.append(getPostData(driver))\n",
    "    \n",
    "allPostData = sum(allPostData, [])"
   ]
  },
  {
   "cell_type": "code",
   "execution_count": 204,
   "metadata": {},
   "outputs": [],
   "source": [
    "#allPostData = sum(allPostData, [])\n",
    "df = pd.DataFrame.from_dict(allPostData)\n",
    "df.to_excel(\"allposts.xlsx\")"
   ]
  },
  {
   "cell_type": "code",
   "execution_count": 194,
   "metadata": {},
   "outputs": [],
   "source": []
  },
  {
   "cell_type": "code",
   "execution_count": 195,
   "metadata": {},
   "outputs": [
    {
     "name": "stdout",
     "output_type": "stream",
     "text": [
      "Exception in expandAllComments(): Message: stale element reference: element is not attached to the page document\n",
      "  (Session info: chrome=66.0.3359.139)\n",
      "  (Driver info: chromedriver=2.38.552522 (437e6fbedfa8762dec75e2c5b3ddb86763dc9dcb),platform=Windows NT 10.0.16299 x86_64)\n",
      "\n"
     ]
    }
   ],
   "source": [
    "expandAllComments(driver)"
   ]
  },
  {
   "cell_type": "code",
   "execution_count": null,
   "metadata": {},
   "outputs": [],
   "source": []
  }
 ],
 "metadata": {
  "kernelspec": {
   "display_name": "Python 3",
   "language": "python",
   "name": "python3"
  },
  "language_info": {
   "codemirror_mode": {
    "name": "ipython",
    "version": 3
   },
   "file_extension": ".py",
   "mimetype": "text/x-python",
   "name": "python",
   "nbconvert_exporter": "python",
   "pygments_lexer": "ipython3",
   "version": "3.6.4"
  }
 },
 "nbformat": 4,
 "nbformat_minor": 2
}
